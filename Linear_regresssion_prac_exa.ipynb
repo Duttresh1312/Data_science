{
 "cells": [
  {
   "cell_type": "code",
   "execution_count": 2,
   "metadata": {},
   "outputs": [],
   "source": [
    "import numpy as np\n",
    "import pandas as pm \n",
    "import statsmodels.api as sm\n",
    "import matplotlib.pyplot as plt\n",
    "from sklearn.linear_model import LinearRegression\n",
    "import seaborn as sb\n",
    "sb.set()"
   ]
  },
  {
   "cell_type": "markdown",
   "metadata": {},
   "source": [
    "Loading the data"
   ]
  },
  {
   "cell_type": "code",
   "execution_count": 3,
   "metadata": {},
   "outputs": [
    {
     "data": {
      "text/html": [
       "<div>\n",
       "<style scoped>\n",
       "    .dataframe tbody tr th:only-of-type {\n",
       "        vertical-align: middle;\n",
       "    }\n",
       "\n",
       "    .dataframe tbody tr th {\n",
       "        vertical-align: top;\n",
       "    }\n",
       "\n",
       "    .dataframe thead th {\n",
       "        text-align: right;\n",
       "    }\n",
       "</style>\n",
       "<table border=\"1\" class=\"dataframe\">\n",
       "  <thead>\n",
       "    <tr style=\"text-align: right;\">\n",
       "      <th></th>\n",
       "      <th>Brand</th>\n",
       "      <th>Price</th>\n",
       "      <th>Body</th>\n",
       "      <th>Mileage</th>\n",
       "      <th>EngineV</th>\n",
       "      <th>Engine Type</th>\n",
       "      <th>Registration</th>\n",
       "      <th>Year</th>\n",
       "      <th>Model</th>\n",
       "    </tr>\n",
       "  </thead>\n",
       "  <tbody>\n",
       "    <tr>\n",
       "      <th>0</th>\n",
       "      <td>BMW</td>\n",
       "      <td>4200.0</td>\n",
       "      <td>sedan</td>\n",
       "      <td>277</td>\n",
       "      <td>2.0</td>\n",
       "      <td>Petrol</td>\n",
       "      <td>yes</td>\n",
       "      <td>1991</td>\n",
       "      <td>320</td>\n",
       "    </tr>\n",
       "    <tr>\n",
       "      <th>1</th>\n",
       "      <td>Mercedes-Benz</td>\n",
       "      <td>7900.0</td>\n",
       "      <td>van</td>\n",
       "      <td>427</td>\n",
       "      <td>2.9</td>\n",
       "      <td>Diesel</td>\n",
       "      <td>yes</td>\n",
       "      <td>1999</td>\n",
       "      <td>Sprinter 212</td>\n",
       "    </tr>\n",
       "    <tr>\n",
       "      <th>2</th>\n",
       "      <td>Mercedes-Benz</td>\n",
       "      <td>13300.0</td>\n",
       "      <td>sedan</td>\n",
       "      <td>358</td>\n",
       "      <td>5.0</td>\n",
       "      <td>Gas</td>\n",
       "      <td>yes</td>\n",
       "      <td>2003</td>\n",
       "      <td>S 500</td>\n",
       "    </tr>\n",
       "    <tr>\n",
       "      <th>3</th>\n",
       "      <td>Audi</td>\n",
       "      <td>23000.0</td>\n",
       "      <td>crossover</td>\n",
       "      <td>240</td>\n",
       "      <td>4.2</td>\n",
       "      <td>Petrol</td>\n",
       "      <td>yes</td>\n",
       "      <td>2007</td>\n",
       "      <td>Q7</td>\n",
       "    </tr>\n",
       "    <tr>\n",
       "      <th>4</th>\n",
       "      <td>Toyota</td>\n",
       "      <td>18300.0</td>\n",
       "      <td>crossover</td>\n",
       "      <td>120</td>\n",
       "      <td>2.0</td>\n",
       "      <td>Petrol</td>\n",
       "      <td>yes</td>\n",
       "      <td>2011</td>\n",
       "      <td>Rav 4</td>\n",
       "    </tr>\n",
       "    <tr>\n",
       "      <th>...</th>\n",
       "      <td>...</td>\n",
       "      <td>...</td>\n",
       "      <td>...</td>\n",
       "      <td>...</td>\n",
       "      <td>...</td>\n",
       "      <td>...</td>\n",
       "      <td>...</td>\n",
       "      <td>...</td>\n",
       "      <td>...</td>\n",
       "    </tr>\n",
       "    <tr>\n",
       "      <th>4340</th>\n",
       "      <td>Mercedes-Benz</td>\n",
       "      <td>125000.0</td>\n",
       "      <td>sedan</td>\n",
       "      <td>9</td>\n",
       "      <td>3.0</td>\n",
       "      <td>Diesel</td>\n",
       "      <td>yes</td>\n",
       "      <td>2014</td>\n",
       "      <td>S 350</td>\n",
       "    </tr>\n",
       "    <tr>\n",
       "      <th>4341</th>\n",
       "      <td>BMW</td>\n",
       "      <td>6500.0</td>\n",
       "      <td>sedan</td>\n",
       "      <td>1</td>\n",
       "      <td>3.5</td>\n",
       "      <td>Petrol</td>\n",
       "      <td>yes</td>\n",
       "      <td>1999</td>\n",
       "      <td>535</td>\n",
       "    </tr>\n",
       "    <tr>\n",
       "      <th>4342</th>\n",
       "      <td>BMW</td>\n",
       "      <td>8000.0</td>\n",
       "      <td>sedan</td>\n",
       "      <td>194</td>\n",
       "      <td>2.0</td>\n",
       "      <td>Petrol</td>\n",
       "      <td>yes</td>\n",
       "      <td>1985</td>\n",
       "      <td>520</td>\n",
       "    </tr>\n",
       "    <tr>\n",
       "      <th>4343</th>\n",
       "      <td>Toyota</td>\n",
       "      <td>14200.0</td>\n",
       "      <td>sedan</td>\n",
       "      <td>31</td>\n",
       "      <td>NaN</td>\n",
       "      <td>Petrol</td>\n",
       "      <td>yes</td>\n",
       "      <td>2014</td>\n",
       "      <td>Corolla</td>\n",
       "    </tr>\n",
       "    <tr>\n",
       "      <th>4344</th>\n",
       "      <td>Volkswagen</td>\n",
       "      <td>13500.0</td>\n",
       "      <td>van</td>\n",
       "      <td>124</td>\n",
       "      <td>2.0</td>\n",
       "      <td>Diesel</td>\n",
       "      <td>yes</td>\n",
       "      <td>2013</td>\n",
       "      <td>T5 (Transporter)</td>\n",
       "    </tr>\n",
       "  </tbody>\n",
       "</table>\n",
       "<p>4345 rows × 9 columns</p>\n",
       "</div>"
      ],
      "text/plain": [
       "              Brand     Price       Body  Mileage  EngineV Engine Type  \\\n",
       "0               BMW    4200.0      sedan      277      2.0      Petrol   \n",
       "1     Mercedes-Benz    7900.0        van      427      2.9      Diesel   \n",
       "2     Mercedes-Benz   13300.0      sedan      358      5.0         Gas   \n",
       "3              Audi   23000.0  crossover      240      4.2      Petrol   \n",
       "4            Toyota   18300.0  crossover      120      2.0      Petrol   \n",
       "...             ...       ...        ...      ...      ...         ...   \n",
       "4340  Mercedes-Benz  125000.0      sedan        9      3.0      Diesel   \n",
       "4341            BMW    6500.0      sedan        1      3.5      Petrol   \n",
       "4342            BMW    8000.0      sedan      194      2.0      Petrol   \n",
       "4343         Toyota   14200.0      sedan       31      NaN      Petrol   \n",
       "4344     Volkswagen   13500.0        van      124      2.0      Diesel   \n",
       "\n",
       "     Registration  Year              Model  \n",
       "0             yes  1991                320  \n",
       "1             yes  1999       Sprinter 212  \n",
       "2             yes  2003              S 500  \n",
       "3             yes  2007                 Q7  \n",
       "4             yes  2011              Rav 4  \n",
       "...           ...   ...                ...  \n",
       "4340          yes  2014              S 350  \n",
       "4341          yes  1999                535  \n",
       "4342          yes  1985                520  \n",
       "4343          yes  2014            Corolla  \n",
       "4344          yes  2013  T5 (Transporter)   \n",
       "\n",
       "[4345 rows x 9 columns]"
      ]
     },
     "execution_count": 3,
     "metadata": {},
     "output_type": "execute_result"
    }
   ],
   "source": [
    "raw_data = pm.read_csv('Real_life_example.csv')\n",
    "raw_data"
   ]
  },
  {
   "cell_type": "markdown",
   "metadata": {},
   "source": [
    "Preprocessing"
   ]
  },
  {
   "cell_type": "markdown",
   "metadata": {},
   "source": [
    "Exploring the descriptive statistics of the varibales"
   ]
  },
  {
   "cell_type": "code",
   "execution_count": 4,
   "metadata": {},
   "outputs": [
    {
     "data": {
      "text/html": [
       "<div>\n",
       "<style scoped>\n",
       "    .dataframe tbody tr th:only-of-type {\n",
       "        vertical-align: middle;\n",
       "    }\n",
       "\n",
       "    .dataframe tbody tr th {\n",
       "        vertical-align: top;\n",
       "    }\n",
       "\n",
       "    .dataframe thead th {\n",
       "        text-align: right;\n",
       "    }\n",
       "</style>\n",
       "<table border=\"1\" class=\"dataframe\">\n",
       "  <thead>\n",
       "    <tr style=\"text-align: right;\">\n",
       "      <th></th>\n",
       "      <th>Brand</th>\n",
       "      <th>Price</th>\n",
       "      <th>Body</th>\n",
       "      <th>Mileage</th>\n",
       "      <th>EngineV</th>\n",
       "      <th>Engine Type</th>\n",
       "      <th>Registration</th>\n",
       "      <th>Year</th>\n",
       "      <th>Model</th>\n",
       "    </tr>\n",
       "  </thead>\n",
       "  <tbody>\n",
       "    <tr>\n",
       "      <th>count</th>\n",
       "      <td>4345</td>\n",
       "      <td>4173.000000</td>\n",
       "      <td>4345</td>\n",
       "      <td>4345.000000</td>\n",
       "      <td>4195.000000</td>\n",
       "      <td>4345</td>\n",
       "      <td>4345</td>\n",
       "      <td>4345.000000</td>\n",
       "      <td>4345</td>\n",
       "    </tr>\n",
       "    <tr>\n",
       "      <th>unique</th>\n",
       "      <td>7</td>\n",
       "      <td>NaN</td>\n",
       "      <td>6</td>\n",
       "      <td>NaN</td>\n",
       "      <td>NaN</td>\n",
       "      <td>4</td>\n",
       "      <td>2</td>\n",
       "      <td>NaN</td>\n",
       "      <td>312</td>\n",
       "    </tr>\n",
       "    <tr>\n",
       "      <th>top</th>\n",
       "      <td>Volkswagen</td>\n",
       "      <td>NaN</td>\n",
       "      <td>sedan</td>\n",
       "      <td>NaN</td>\n",
       "      <td>NaN</td>\n",
       "      <td>Diesel</td>\n",
       "      <td>yes</td>\n",
       "      <td>NaN</td>\n",
       "      <td>E-Class</td>\n",
       "    </tr>\n",
       "    <tr>\n",
       "      <th>freq</th>\n",
       "      <td>936</td>\n",
       "      <td>NaN</td>\n",
       "      <td>1649</td>\n",
       "      <td>NaN</td>\n",
       "      <td>NaN</td>\n",
       "      <td>2019</td>\n",
       "      <td>3947</td>\n",
       "      <td>NaN</td>\n",
       "      <td>199</td>\n",
       "    </tr>\n",
       "    <tr>\n",
       "      <th>mean</th>\n",
       "      <td>NaN</td>\n",
       "      <td>19418.746935</td>\n",
       "      <td>NaN</td>\n",
       "      <td>161.237284</td>\n",
       "      <td>2.790734</td>\n",
       "      <td>NaN</td>\n",
       "      <td>NaN</td>\n",
       "      <td>2006.550058</td>\n",
       "      <td>NaN</td>\n",
       "    </tr>\n",
       "    <tr>\n",
       "      <th>std</th>\n",
       "      <td>NaN</td>\n",
       "      <td>25584.242620</td>\n",
       "      <td>NaN</td>\n",
       "      <td>105.705797</td>\n",
       "      <td>5.066437</td>\n",
       "      <td>NaN</td>\n",
       "      <td>NaN</td>\n",
       "      <td>6.719097</td>\n",
       "      <td>NaN</td>\n",
       "    </tr>\n",
       "    <tr>\n",
       "      <th>min</th>\n",
       "      <td>NaN</td>\n",
       "      <td>600.000000</td>\n",
       "      <td>NaN</td>\n",
       "      <td>0.000000</td>\n",
       "      <td>0.600000</td>\n",
       "      <td>NaN</td>\n",
       "      <td>NaN</td>\n",
       "      <td>1969.000000</td>\n",
       "      <td>NaN</td>\n",
       "    </tr>\n",
       "    <tr>\n",
       "      <th>25%</th>\n",
       "      <td>NaN</td>\n",
       "      <td>6999.000000</td>\n",
       "      <td>NaN</td>\n",
       "      <td>86.000000</td>\n",
       "      <td>1.800000</td>\n",
       "      <td>NaN</td>\n",
       "      <td>NaN</td>\n",
       "      <td>2003.000000</td>\n",
       "      <td>NaN</td>\n",
       "    </tr>\n",
       "    <tr>\n",
       "      <th>50%</th>\n",
       "      <td>NaN</td>\n",
       "      <td>11500.000000</td>\n",
       "      <td>NaN</td>\n",
       "      <td>155.000000</td>\n",
       "      <td>2.200000</td>\n",
       "      <td>NaN</td>\n",
       "      <td>NaN</td>\n",
       "      <td>2008.000000</td>\n",
       "      <td>NaN</td>\n",
       "    </tr>\n",
       "    <tr>\n",
       "      <th>75%</th>\n",
       "      <td>NaN</td>\n",
       "      <td>21700.000000</td>\n",
       "      <td>NaN</td>\n",
       "      <td>230.000000</td>\n",
       "      <td>3.000000</td>\n",
       "      <td>NaN</td>\n",
       "      <td>NaN</td>\n",
       "      <td>2012.000000</td>\n",
       "      <td>NaN</td>\n",
       "    </tr>\n",
       "    <tr>\n",
       "      <th>max</th>\n",
       "      <td>NaN</td>\n",
       "      <td>300000.000000</td>\n",
       "      <td>NaN</td>\n",
       "      <td>980.000000</td>\n",
       "      <td>99.990000</td>\n",
       "      <td>NaN</td>\n",
       "      <td>NaN</td>\n",
       "      <td>2016.000000</td>\n",
       "      <td>NaN</td>\n",
       "    </tr>\n",
       "  </tbody>\n",
       "</table>\n",
       "</div>"
      ],
      "text/plain": [
       "             Brand          Price   Body      Mileage      EngineV  \\\n",
       "count         4345    4173.000000   4345  4345.000000  4195.000000   \n",
       "unique           7            NaN      6          NaN          NaN   \n",
       "top     Volkswagen            NaN  sedan          NaN          NaN   \n",
       "freq           936            NaN   1649          NaN          NaN   \n",
       "mean           NaN   19418.746935    NaN   161.237284     2.790734   \n",
       "std            NaN   25584.242620    NaN   105.705797     5.066437   \n",
       "min            NaN     600.000000    NaN     0.000000     0.600000   \n",
       "25%            NaN    6999.000000    NaN    86.000000     1.800000   \n",
       "50%            NaN   11500.000000    NaN   155.000000     2.200000   \n",
       "75%            NaN   21700.000000    NaN   230.000000     3.000000   \n",
       "max            NaN  300000.000000    NaN   980.000000    99.990000   \n",
       "\n",
       "       Engine Type Registration         Year    Model  \n",
       "count         4345         4345  4345.000000     4345  \n",
       "unique           4            2          NaN      312  \n",
       "top         Diesel          yes          NaN  E-Class  \n",
       "freq          2019         3947          NaN      199  \n",
       "mean           NaN          NaN  2006.550058      NaN  \n",
       "std            NaN          NaN     6.719097      NaN  \n",
       "min            NaN          NaN  1969.000000      NaN  \n",
       "25%            NaN          NaN  2003.000000      NaN  \n",
       "50%            NaN          NaN  2008.000000      NaN  \n",
       "75%            NaN          NaN  2012.000000      NaN  \n",
       "max            NaN          NaN  2016.000000      NaN  "
      ]
     },
     "execution_count": 4,
     "metadata": {},
     "output_type": "execute_result"
    }
   ],
   "source": [
    "raw_data.describe(include='all')"
   ]
  },
  {
   "cell_type": "markdown",
   "metadata": {},
   "source": [
    "Determining the variables of interest "
   ]
  },
  {
   "cell_type": "code",
   "execution_count": 5,
   "metadata": {},
   "outputs": [
    {
     "data": {
      "text/html": [
       "<div>\n",
       "<style scoped>\n",
       "    .dataframe tbody tr th:only-of-type {\n",
       "        vertical-align: middle;\n",
       "    }\n",
       "\n",
       "    .dataframe tbody tr th {\n",
       "        vertical-align: top;\n",
       "    }\n",
       "\n",
       "    .dataframe thead th {\n",
       "        text-align: right;\n",
       "    }\n",
       "</style>\n",
       "<table border=\"1\" class=\"dataframe\">\n",
       "  <thead>\n",
       "    <tr style=\"text-align: right;\">\n",
       "      <th></th>\n",
       "      <th>Brand</th>\n",
       "      <th>Price</th>\n",
       "      <th>Body</th>\n",
       "      <th>Mileage</th>\n",
       "      <th>EngineV</th>\n",
       "      <th>Engine Type</th>\n",
       "      <th>Registration</th>\n",
       "      <th>Year</th>\n",
       "    </tr>\n",
       "  </thead>\n",
       "  <tbody>\n",
       "    <tr>\n",
       "      <th>count</th>\n",
       "      <td>4345</td>\n",
       "      <td>4173.000000</td>\n",
       "      <td>4345</td>\n",
       "      <td>4345.000000</td>\n",
       "      <td>4195.000000</td>\n",
       "      <td>4345</td>\n",
       "      <td>4345</td>\n",
       "      <td>4345.000000</td>\n",
       "    </tr>\n",
       "    <tr>\n",
       "      <th>unique</th>\n",
       "      <td>7</td>\n",
       "      <td>NaN</td>\n",
       "      <td>6</td>\n",
       "      <td>NaN</td>\n",
       "      <td>NaN</td>\n",
       "      <td>4</td>\n",
       "      <td>2</td>\n",
       "      <td>NaN</td>\n",
       "    </tr>\n",
       "    <tr>\n",
       "      <th>top</th>\n",
       "      <td>Volkswagen</td>\n",
       "      <td>NaN</td>\n",
       "      <td>sedan</td>\n",
       "      <td>NaN</td>\n",
       "      <td>NaN</td>\n",
       "      <td>Diesel</td>\n",
       "      <td>yes</td>\n",
       "      <td>NaN</td>\n",
       "    </tr>\n",
       "    <tr>\n",
       "      <th>freq</th>\n",
       "      <td>936</td>\n",
       "      <td>NaN</td>\n",
       "      <td>1649</td>\n",
       "      <td>NaN</td>\n",
       "      <td>NaN</td>\n",
       "      <td>2019</td>\n",
       "      <td>3947</td>\n",
       "      <td>NaN</td>\n",
       "    </tr>\n",
       "    <tr>\n",
       "      <th>mean</th>\n",
       "      <td>NaN</td>\n",
       "      <td>19418.746935</td>\n",
       "      <td>NaN</td>\n",
       "      <td>161.237284</td>\n",
       "      <td>2.790734</td>\n",
       "      <td>NaN</td>\n",
       "      <td>NaN</td>\n",
       "      <td>2006.550058</td>\n",
       "    </tr>\n",
       "    <tr>\n",
       "      <th>std</th>\n",
       "      <td>NaN</td>\n",
       "      <td>25584.242620</td>\n",
       "      <td>NaN</td>\n",
       "      <td>105.705797</td>\n",
       "      <td>5.066437</td>\n",
       "      <td>NaN</td>\n",
       "      <td>NaN</td>\n",
       "      <td>6.719097</td>\n",
       "    </tr>\n",
       "    <tr>\n",
       "      <th>min</th>\n",
       "      <td>NaN</td>\n",
       "      <td>600.000000</td>\n",
       "      <td>NaN</td>\n",
       "      <td>0.000000</td>\n",
       "      <td>0.600000</td>\n",
       "      <td>NaN</td>\n",
       "      <td>NaN</td>\n",
       "      <td>1969.000000</td>\n",
       "    </tr>\n",
       "    <tr>\n",
       "      <th>25%</th>\n",
       "      <td>NaN</td>\n",
       "      <td>6999.000000</td>\n",
       "      <td>NaN</td>\n",
       "      <td>86.000000</td>\n",
       "      <td>1.800000</td>\n",
       "      <td>NaN</td>\n",
       "      <td>NaN</td>\n",
       "      <td>2003.000000</td>\n",
       "    </tr>\n",
       "    <tr>\n",
       "      <th>50%</th>\n",
       "      <td>NaN</td>\n",
       "      <td>11500.000000</td>\n",
       "      <td>NaN</td>\n",
       "      <td>155.000000</td>\n",
       "      <td>2.200000</td>\n",
       "      <td>NaN</td>\n",
       "      <td>NaN</td>\n",
       "      <td>2008.000000</td>\n",
       "    </tr>\n",
       "    <tr>\n",
       "      <th>75%</th>\n",
       "      <td>NaN</td>\n",
       "      <td>21700.000000</td>\n",
       "      <td>NaN</td>\n",
       "      <td>230.000000</td>\n",
       "      <td>3.000000</td>\n",
       "      <td>NaN</td>\n",
       "      <td>NaN</td>\n",
       "      <td>2012.000000</td>\n",
       "    </tr>\n",
       "    <tr>\n",
       "      <th>max</th>\n",
       "      <td>NaN</td>\n",
       "      <td>300000.000000</td>\n",
       "      <td>NaN</td>\n",
       "      <td>980.000000</td>\n",
       "      <td>99.990000</td>\n",
       "      <td>NaN</td>\n",
       "      <td>NaN</td>\n",
       "      <td>2016.000000</td>\n",
       "    </tr>\n",
       "  </tbody>\n",
       "</table>\n",
       "</div>"
      ],
      "text/plain": [
       "             Brand          Price   Body      Mileage      EngineV  \\\n",
       "count         4345    4173.000000   4345  4345.000000  4195.000000   \n",
       "unique           7            NaN      6          NaN          NaN   \n",
       "top     Volkswagen            NaN  sedan          NaN          NaN   \n",
       "freq           936            NaN   1649          NaN          NaN   \n",
       "mean           NaN   19418.746935    NaN   161.237284     2.790734   \n",
       "std            NaN   25584.242620    NaN   105.705797     5.066437   \n",
       "min            NaN     600.000000    NaN     0.000000     0.600000   \n",
       "25%            NaN    6999.000000    NaN    86.000000     1.800000   \n",
       "50%            NaN   11500.000000    NaN   155.000000     2.200000   \n",
       "75%            NaN   21700.000000    NaN   230.000000     3.000000   \n",
       "max            NaN  300000.000000    NaN   980.000000    99.990000   \n",
       "\n",
       "       Engine Type Registration         Year  \n",
       "count         4345         4345  4345.000000  \n",
       "unique           4            2          NaN  \n",
       "top         Diesel          yes          NaN  \n",
       "freq          2019         3947          NaN  \n",
       "mean           NaN          NaN  2006.550058  \n",
       "std            NaN          NaN     6.719097  \n",
       "min            NaN          NaN  1969.000000  \n",
       "25%            NaN          NaN  2003.000000  \n",
       "50%            NaN          NaN  2008.000000  \n",
       "75%            NaN          NaN  2012.000000  \n",
       "max            NaN          NaN  2016.000000  "
      ]
     },
     "execution_count": 5,
     "metadata": {},
     "output_type": "execute_result"
    }
   ],
   "source": [
    "data = raw_data.drop(['Model'],axis=1)\n",
    "data.describe(include='all')"
   ]
  },
  {
   "cell_type": "markdown",
   "metadata": {},
   "source": [
    "Dealing with the missing values"
   ]
  },
  {
   "cell_type": "code",
   "execution_count": 6,
   "metadata": {},
   "outputs": [
    {
     "data": {
      "text/plain": [
       "Brand             0\n",
       "Price           172\n",
       "Body              0\n",
       "Mileage           0\n",
       "EngineV         150\n",
       "Engine Type       0\n",
       "Registration      0\n",
       "Year              0\n",
       "dtype: int64"
      ]
     },
     "execution_count": 6,
     "metadata": {},
     "output_type": "execute_result"
    }
   ],
   "source": [
    "data.isnull().sum()"
   ]
  },
  {
   "cell_type": "code",
   "execution_count": 7,
   "metadata": {},
   "outputs": [],
   "source": [
    "data_no_mv = data.dropna(axis=0)"
   ]
  },
  {
   "cell_type": "code",
   "execution_count": 8,
   "metadata": {},
   "outputs": [
    {
     "data": {
      "text/html": [
       "<div>\n",
       "<style scoped>\n",
       "    .dataframe tbody tr th:only-of-type {\n",
       "        vertical-align: middle;\n",
       "    }\n",
       "\n",
       "    .dataframe tbody tr th {\n",
       "        vertical-align: top;\n",
       "    }\n",
       "\n",
       "    .dataframe thead th {\n",
       "        text-align: right;\n",
       "    }\n",
       "</style>\n",
       "<table border=\"1\" class=\"dataframe\">\n",
       "  <thead>\n",
       "    <tr style=\"text-align: right;\">\n",
       "      <th></th>\n",
       "      <th>Brand</th>\n",
       "      <th>Price</th>\n",
       "      <th>Body</th>\n",
       "      <th>Mileage</th>\n",
       "      <th>EngineV</th>\n",
       "      <th>Engine Type</th>\n",
       "      <th>Registration</th>\n",
       "      <th>Year</th>\n",
       "    </tr>\n",
       "  </thead>\n",
       "  <tbody>\n",
       "    <tr>\n",
       "      <th>0</th>\n",
       "      <td>BMW</td>\n",
       "      <td>4200.0</td>\n",
       "      <td>sedan</td>\n",
       "      <td>277</td>\n",
       "      <td>2.0</td>\n",
       "      <td>Petrol</td>\n",
       "      <td>yes</td>\n",
       "      <td>1991</td>\n",
       "    </tr>\n",
       "    <tr>\n",
       "      <th>1</th>\n",
       "      <td>Mercedes-Benz</td>\n",
       "      <td>7900.0</td>\n",
       "      <td>van</td>\n",
       "      <td>427</td>\n",
       "      <td>2.9</td>\n",
       "      <td>Diesel</td>\n",
       "      <td>yes</td>\n",
       "      <td>1999</td>\n",
       "    </tr>\n",
       "    <tr>\n",
       "      <th>2</th>\n",
       "      <td>Mercedes-Benz</td>\n",
       "      <td>13300.0</td>\n",
       "      <td>sedan</td>\n",
       "      <td>358</td>\n",
       "      <td>5.0</td>\n",
       "      <td>Gas</td>\n",
       "      <td>yes</td>\n",
       "      <td>2003</td>\n",
       "    </tr>\n",
       "    <tr>\n",
       "      <th>3</th>\n",
       "      <td>Audi</td>\n",
       "      <td>23000.0</td>\n",
       "      <td>crossover</td>\n",
       "      <td>240</td>\n",
       "      <td>4.2</td>\n",
       "      <td>Petrol</td>\n",
       "      <td>yes</td>\n",
       "      <td>2007</td>\n",
       "    </tr>\n",
       "    <tr>\n",
       "      <th>4</th>\n",
       "      <td>Toyota</td>\n",
       "      <td>18300.0</td>\n",
       "      <td>crossover</td>\n",
       "      <td>120</td>\n",
       "      <td>2.0</td>\n",
       "      <td>Petrol</td>\n",
       "      <td>yes</td>\n",
       "      <td>2011</td>\n",
       "    </tr>\n",
       "    <tr>\n",
       "      <th>...</th>\n",
       "      <td>...</td>\n",
       "      <td>...</td>\n",
       "      <td>...</td>\n",
       "      <td>...</td>\n",
       "      <td>...</td>\n",
       "      <td>...</td>\n",
       "      <td>...</td>\n",
       "      <td>...</td>\n",
       "    </tr>\n",
       "    <tr>\n",
       "      <th>4339</th>\n",
       "      <td>Toyota</td>\n",
       "      <td>17900.0</td>\n",
       "      <td>sedan</td>\n",
       "      <td>35</td>\n",
       "      <td>1.6</td>\n",
       "      <td>Petrol</td>\n",
       "      <td>yes</td>\n",
       "      <td>2014</td>\n",
       "    </tr>\n",
       "    <tr>\n",
       "      <th>4340</th>\n",
       "      <td>Mercedes-Benz</td>\n",
       "      <td>125000.0</td>\n",
       "      <td>sedan</td>\n",
       "      <td>9</td>\n",
       "      <td>3.0</td>\n",
       "      <td>Diesel</td>\n",
       "      <td>yes</td>\n",
       "      <td>2014</td>\n",
       "    </tr>\n",
       "    <tr>\n",
       "      <th>4341</th>\n",
       "      <td>BMW</td>\n",
       "      <td>6500.0</td>\n",
       "      <td>sedan</td>\n",
       "      <td>1</td>\n",
       "      <td>3.5</td>\n",
       "      <td>Petrol</td>\n",
       "      <td>yes</td>\n",
       "      <td>1999</td>\n",
       "    </tr>\n",
       "    <tr>\n",
       "      <th>4342</th>\n",
       "      <td>BMW</td>\n",
       "      <td>8000.0</td>\n",
       "      <td>sedan</td>\n",
       "      <td>194</td>\n",
       "      <td>2.0</td>\n",
       "      <td>Petrol</td>\n",
       "      <td>yes</td>\n",
       "      <td>1985</td>\n",
       "    </tr>\n",
       "    <tr>\n",
       "      <th>4344</th>\n",
       "      <td>Volkswagen</td>\n",
       "      <td>13500.0</td>\n",
       "      <td>van</td>\n",
       "      <td>124</td>\n",
       "      <td>2.0</td>\n",
       "      <td>Diesel</td>\n",
       "      <td>yes</td>\n",
       "      <td>2013</td>\n",
       "    </tr>\n",
       "  </tbody>\n",
       "</table>\n",
       "<p>4025 rows × 8 columns</p>\n",
       "</div>"
      ],
      "text/plain": [
       "              Brand     Price       Body  Mileage  EngineV Engine Type  \\\n",
       "0               BMW    4200.0      sedan      277      2.0      Petrol   \n",
       "1     Mercedes-Benz    7900.0        van      427      2.9      Diesel   \n",
       "2     Mercedes-Benz   13300.0      sedan      358      5.0         Gas   \n",
       "3              Audi   23000.0  crossover      240      4.2      Petrol   \n",
       "4            Toyota   18300.0  crossover      120      2.0      Petrol   \n",
       "...             ...       ...        ...      ...      ...         ...   \n",
       "4339         Toyota   17900.0      sedan       35      1.6      Petrol   \n",
       "4340  Mercedes-Benz  125000.0      sedan        9      3.0      Diesel   \n",
       "4341            BMW    6500.0      sedan        1      3.5      Petrol   \n",
       "4342            BMW    8000.0      sedan      194      2.0      Petrol   \n",
       "4344     Volkswagen   13500.0        van      124      2.0      Diesel   \n",
       "\n",
       "     Registration  Year  \n",
       "0             yes  1991  \n",
       "1             yes  1999  \n",
       "2             yes  2003  \n",
       "3             yes  2007  \n",
       "4             yes  2011  \n",
       "...           ...   ...  \n",
       "4339          yes  2014  \n",
       "4340          yes  2014  \n",
       "4341          yes  1999  \n",
       "4342          yes  1985  \n",
       "4344          yes  2013  \n",
       "\n",
       "[4025 rows x 8 columns]"
      ]
     },
     "execution_count": 8,
     "metadata": {},
     "output_type": "execute_result"
    }
   ],
   "source": [
    "data_no_mv"
   ]
  },
  {
   "cell_type": "markdown",
   "metadata": {},
   "source": [
    "Exploring the PDFs"
   ]
  },
  {
   "cell_type": "code",
   "execution_count": 9,
   "metadata": {},
   "outputs": [
    {
     "name": "stderr",
     "output_type": "stream",
     "text": [
      "c:\\Python310\\lib\\site-packages\\seaborn\\distributions.py:2619: FutureWarning: `distplot` is a deprecated function and will be removed in a future version. Please adapt your code to use either `displot` (a figure-level function with similar flexibility) or `histplot` (an axes-level function for histograms).\n",
      "  warnings.warn(msg, FutureWarning)\n"
     ]
    },
    {
     "data": {
      "text/plain": [
       "<AxesSubplot:xlabel='Price', ylabel='Density'>"
      ]
     },
     "execution_count": 9,
     "metadata": {},
     "output_type": "execute_result"
    },
    {
     "data": {
      "image/png": "[encoded data removed]",
      "text/plain": [
       "<Figure size 432x288 with 1 Axes>"
      ]
     },
     "metadata": {
      "needs_background": "light"
     },
     "output_type": "display_data"
    }
   ],
   "source": [
    "sb.distplot(data_no_mv['Price'])"
   ]
  },
  {
   "cell_type": "markdown",
   "metadata": {},
   "source": [
    "Dealing with outliers"
   ]
  },
  {
   "cell_type": "code",
   "execution_count": 10,
   "metadata": {},
   "outputs": [
    {
     "data": {
      "text/html": [
       "<div>\n",
       "<style scoped>\n",
       "    .dataframe tbody tr th:only-of-type {\n",
       "        vertical-align: middle;\n",
       "    }\n",
       "\n",
       "    .dataframe tbody tr th {\n",
       "        vertical-align: top;\n",
       "    }\n",
       "\n",
       "    .dataframe thead th {\n",
       "        text-align: right;\n",
       "    }\n",
       "</style>\n",
       "<table border=\"1\" class=\"dataframe\">\n",
       "  <thead>\n",
       "    <tr style=\"text-align: right;\">\n",
       "      <th></th>\n",
       "      <th>Brand</th>\n",
       "      <th>Price</th>\n",
       "      <th>Body</th>\n",
       "      <th>Mileage</th>\n",
       "      <th>EngineV</th>\n",
       "      <th>Engine Type</th>\n",
       "      <th>Registration</th>\n",
       "      <th>Year</th>\n",
       "    </tr>\n",
       "  </thead>\n",
       "  <tbody>\n",
       "    <tr>\n",
       "      <th>count</th>\n",
       "      <td>3984</td>\n",
       "      <td>3984.000000</td>\n",
       "      <td>3984</td>\n",
       "      <td>3984.000000</td>\n",
       "      <td>3984.000000</td>\n",
       "      <td>3984</td>\n",
       "      <td>3984</td>\n",
       "      <td>3984.000000</td>\n",
       "    </tr>\n",
       "    <tr>\n",
       "      <th>unique</th>\n",
       "      <td>7</td>\n",
       "      <td>NaN</td>\n",
       "      <td>6</td>\n",
       "      <td>NaN</td>\n",
       "      <td>NaN</td>\n",
       "      <td>4</td>\n",
       "      <td>2</td>\n",
       "      <td>NaN</td>\n",
       "    </tr>\n",
       "    <tr>\n",
       "      <th>top</th>\n",
       "      <td>Volkswagen</td>\n",
       "      <td>NaN</td>\n",
       "      <td>sedan</td>\n",
       "      <td>NaN</td>\n",
       "      <td>NaN</td>\n",
       "      <td>Diesel</td>\n",
       "      <td>yes</td>\n",
       "      <td>NaN</td>\n",
       "    </tr>\n",
       "    <tr>\n",
       "      <th>freq</th>\n",
       "      <td>880</td>\n",
       "      <td>NaN</td>\n",
       "      <td>1528</td>\n",
       "      <td>NaN</td>\n",
       "      <td>NaN</td>\n",
       "      <td>1853</td>\n",
       "      <td>3613</td>\n",
       "      <td>NaN</td>\n",
       "    </tr>\n",
       "    <tr>\n",
       "      <th>mean</th>\n",
       "      <td>NaN</td>\n",
       "      <td>17837.117460</td>\n",
       "      <td>NaN</td>\n",
       "      <td>165.116466</td>\n",
       "      <td>2.743770</td>\n",
       "      <td>NaN</td>\n",
       "      <td>NaN</td>\n",
       "      <td>2006.292922</td>\n",
       "    </tr>\n",
       "    <tr>\n",
       "      <th>std</th>\n",
       "      <td>NaN</td>\n",
       "      <td>18976.268315</td>\n",
       "      <td>NaN</td>\n",
       "      <td>102.766126</td>\n",
       "      <td>4.956057</td>\n",
       "      <td>NaN</td>\n",
       "      <td>NaN</td>\n",
       "      <td>6.672745</td>\n",
       "    </tr>\n",
       "    <tr>\n",
       "      <th>min</th>\n",
       "      <td>NaN</td>\n",
       "      <td>600.000000</td>\n",
       "      <td>NaN</td>\n",
       "      <td>0.000000</td>\n",
       "      <td>0.600000</td>\n",
       "      <td>NaN</td>\n",
       "      <td>NaN</td>\n",
       "      <td>1969.000000</td>\n",
       "    </tr>\n",
       "    <tr>\n",
       "      <th>25%</th>\n",
       "      <td>NaN</td>\n",
       "      <td>6980.000000</td>\n",
       "      <td>NaN</td>\n",
       "      <td>93.000000</td>\n",
       "      <td>1.800000</td>\n",
       "      <td>NaN</td>\n",
       "      <td>NaN</td>\n",
       "      <td>2002.750000</td>\n",
       "    </tr>\n",
       "    <tr>\n",
       "      <th>50%</th>\n",
       "      <td>NaN</td>\n",
       "      <td>11400.000000</td>\n",
       "      <td>NaN</td>\n",
       "      <td>160.000000</td>\n",
       "      <td>2.200000</td>\n",
       "      <td>NaN</td>\n",
       "      <td>NaN</td>\n",
       "      <td>2007.000000</td>\n",
       "    </tr>\n",
       "    <tr>\n",
       "      <th>75%</th>\n",
       "      <td>NaN</td>\n",
       "      <td>21000.000000</td>\n",
       "      <td>NaN</td>\n",
       "      <td>230.000000</td>\n",
       "      <td>3.000000</td>\n",
       "      <td>NaN</td>\n",
       "      <td>NaN</td>\n",
       "      <td>2011.000000</td>\n",
       "    </tr>\n",
       "    <tr>\n",
       "      <th>max</th>\n",
       "      <td>NaN</td>\n",
       "      <td>129222.000000</td>\n",
       "      <td>NaN</td>\n",
       "      <td>980.000000</td>\n",
       "      <td>99.990000</td>\n",
       "      <td>NaN</td>\n",
       "      <td>NaN</td>\n",
       "      <td>2016.000000</td>\n",
       "    </tr>\n",
       "  </tbody>\n",
       "</table>\n",
       "</div>"
      ],
      "text/plain": [
       "             Brand          Price   Body      Mileage      EngineV  \\\n",
       "count         3984    3984.000000   3984  3984.000000  3984.000000   \n",
       "unique           7            NaN      6          NaN          NaN   \n",
       "top     Volkswagen            NaN  sedan          NaN          NaN   \n",
       "freq           880            NaN   1528          NaN          NaN   \n",
       "mean           NaN   17837.117460    NaN   165.116466     2.743770   \n",
       "std            NaN   18976.268315    NaN   102.766126     4.956057   \n",
       "min            NaN     600.000000    NaN     0.000000     0.600000   \n",
       "25%            NaN    6980.000000    NaN    93.000000     1.800000   \n",
       "50%            NaN   11400.000000    NaN   160.000000     2.200000   \n",
       "75%            NaN   21000.000000    NaN   230.000000     3.000000   \n",
       "max            NaN  129222.000000    NaN   980.000000    99.990000   \n",
       "\n",
       "       Engine Type Registration         Year  \n",
       "count         3984         3984  3984.000000  \n",
       "unique           4            2          NaN  \n",
       "top         Diesel          yes          NaN  \n",
       "freq          1853         3613          NaN  \n",
       "mean           NaN          NaN  2006.292922  \n",
       "std            NaN          NaN     6.672745  \n",
       "min            NaN          NaN  1969.000000  \n",
       "25%            NaN          NaN  2002.750000  \n",
       "50%            NaN          NaN  2007.000000  \n",
       "75%            NaN          NaN  2011.000000  \n",
       "max            NaN          NaN  2016.000000  "
      ]
     },
     "execution_count": 10,
     "metadata": {},
     "output_type": "execute_result"
    }
   ],
   "source": [
    "q = data_no_mv['Price'].quantile(0.99)\n",
    "data_1 = data_no_mv[data_no_mv['Price']<q]\n",
    "data_1.describe(include='all')"
   ]
  },
  {
   "cell_type": "code",
   "execution_count": 11,
   "metadata": {},
   "outputs": [
    {
     "name": "stderr",
     "output_type": "stream",
     "text": [
      "c:\\Python310\\lib\\site-packages\\seaborn\\distributions.py:2619: FutureWarning: `distplot` is a deprecated function and will be removed in a future version. Please adapt your code to use either `displot` (a figure-level function with similar flexibility) or `histplot` (an axes-level function for histograms).\n",
      "  warnings.warn(msg, FutureWarning)\n"
     ]
    },
    {
     "data": {
      "text/plain": [
       "<AxesSubplot:xlabel='Price', ylabel='Density'>"
      ]
     },
     "execution_count": 11,
     "metadata": {},
     "output_type": "execute_result"
    },
    {
     "data": {
      "image/png": "[encoded data removed]",
      "text/plain": [
       "<Figure size 432x288 with 1 Axes>"
      ]
     },
     "metadata": {
      "needs_background": "light"
     },
     "output_type": "display_data"
    }
   ],
   "source": [
    "sb.distplot(data_1['Price'])"
   ]
  },
  {
   "cell_type": "markdown",
   "metadata": {},
   "source": [
    "Same Problem is there for Milege and EngineV "
   ]
  },
  {
   "cell_type": "code",
   "execution_count": 12,
   "metadata": {},
   "outputs": [],
   "source": [
    "q = data_no_mv['Mileage'].quantile(0.99)\n",
    "data_2 = data_no_mv[data_no_mv['Mileage']<q]\n"
   ]
  },
  {
   "cell_type": "code",
   "execution_count": 13,
   "metadata": {},
   "outputs": [
    {
     "name": "stderr",
     "output_type": "stream",
     "text": [
      "c:\\Python310\\lib\\site-packages\\seaborn\\distributions.py:2619: FutureWarning: `distplot` is a deprecated function and will be removed in a future version. Please adapt your code to use either `displot` (a figure-level function with similar flexibility) or `histplot` (an axes-level function for histograms).\n",
      "  warnings.warn(msg, FutureWarning)\n"
     ]
    },
    {
     "data": {
      "text/plain": [
       "<AxesSubplot:xlabel='Mileage', ylabel='Density'>"
      ]
     },
     "execution_count": 13,
     "metadata": {},
     "output_type": "execute_result"
    },
    {
     "data": {
      "image/png": "[encoded data removed]",
      "text/plain": [
       "<Figure size 432x288 with 1 Axes>"
      ]
     },
     "metadata": {
      "needs_background": "light"
     },
     "output_type": "display_data"
    }
   ],
   "source": [
    "sb.distplot(data_no_mv['Mileage'])"
   ]
  },
  {
   "cell_type": "code",
   "execution_count": 14,
   "metadata": {},
   "outputs": [
    {
     "name": "stderr",
     "output_type": "stream",
     "text": [
      "c:\\Python310\\lib\\site-packages\\seaborn\\distributions.py:2619: FutureWarning: `distplot` is a deprecated function and will be removed in a future version. Please adapt your code to use either `displot` (a figure-level function with similar flexibility) or `histplot` (an axes-level function for histograms).\n",
      "  warnings.warn(msg, FutureWarning)\n"
     ]
    },
    {
     "data": {
      "text/plain": [
       "<AxesSubplot:xlabel='EngineV', ylabel='Density'>"
      ]
     },
     "execution_count": 14,
     "metadata": {},
     "output_type": "execute_result"
    },
    {
     "data": {
      "image/png": "[encoded data removed]",
      "text/plain": [
       "<Figure size 432x288 with 1 Axes>"
      ]
     },
     "metadata": {
      "needs_background": "light"
     },
     "output_type": "display_data"
    }
   ],
   "source": [
    "sb.distplot(data_no_mv['EngineV'])"
   ]
  },
  {
   "cell_type": "code",
   "execution_count": 15,
   "metadata": {},
   "outputs": [],
   "source": [
    "data_3 = data_2[data_2['EngineV'] < 6.5]"
   ]
  },
  {
   "cell_type": "code",
   "execution_count": 16,
   "metadata": {},
   "outputs": [
    {
     "name": "stderr",
     "output_type": "stream",
     "text": [
      "c:\\Python310\\lib\\site-packages\\seaborn\\distributions.py:2619: FutureWarning: `distplot` is a deprecated function and will be removed in a future version. Please adapt your code to use either `displot` (a figure-level function with similar flexibility) or `histplot` (an axes-level function for histograms).\n",
      "  warnings.warn(msg, FutureWarning)\n"
     ]
    },
    {
     "data": {
      "text/plain": [
       "<AxesSubplot:xlabel='EngineV', ylabel='Density'>"
      ]
     },
     "execution_count": 16,
     "metadata": {},
     "output_type": "execute_result"
    },
    {
     "data": {
      "image/png": "[encoded data removed]",
      "text/plain": [
       "<Figure size 432x288 with 1 Axes>"
      ]
     },
     "metadata": {
      "needs_background": "light"
     },
     "output_type": "display_data"
    }
   ],
   "source": [
    "sb.distplot(data_3['EngineV'])"
   ]
  },
  {
   "cell_type": "code",
   "execution_count": 17,
   "metadata": {},
   "outputs": [],
   "source": [
    "q = data_3['Year'].quantile(0.01)\n",
    "data_4 = data_3[data_3['Year']>q]\n"
   ]
  },
  {
   "cell_type": "code",
   "execution_count": 18,
   "metadata": {},
   "outputs": [
    {
     "name": "stderr",
     "output_type": "stream",
     "text": [
      "c:\\Python310\\lib\\site-packages\\seaborn\\distributions.py:2619: FutureWarning: `distplot` is a deprecated function and will be removed in a future version. Please adapt your code to use either `displot` (a figure-level function with similar flexibility) or `histplot` (an axes-level function for histograms).\n",
      "  warnings.warn(msg, FutureWarning)\n"
     ]
    },
    {
     "data": {
      "text/plain": [
       "<AxesSubplot:xlabel='Year', ylabel='Density'>"
      ]
     },
     "execution_count": 18,
     "metadata": {},
     "output_type": "execute_result"
    },
    {
     "data": {
      "image/png": "[encoded data removed]",
      "text/plain": [
       "<Figure size 432x288 with 1 Axes>"
      ]
     },
     "metadata": {
      "needs_background": "light"
     },
     "output_type": "display_data"
    }
   ],
   "source": [
    "sb.distplot(data_4['Year'])"
   ]
  },
  {
   "cell_type": "code",
   "execution_count": 19,
   "metadata": {},
   "outputs": [],
   "source": [
    "data_cleaned = data_4.reset_index(drop=True)"
   ]
  },
  {
   "cell_type": "code",
   "execution_count": 20,
   "metadata": {},
   "outputs": [
    {
     "data": {
      "text/html": [
       "<div>\n",
       "<style scoped>\n",
       "    .dataframe tbody tr th:only-of-type {\n",
       "        vertical-align: middle;\n",
       "    }\n",
       "\n",
       "    .dataframe tbody tr th {\n",
       "        vertical-align: top;\n",
       "    }\n",
       "\n",
       "    .dataframe thead th {\n",
       "        text-align: right;\n",
       "    }\n",
       "</style>\n",
       "<table border=\"1\" class=\"dataframe\">\n",
       "  <thead>\n",
       "    <tr style=\"text-align: right;\">\n",
       "      <th></th>\n",
       "      <th>Brand</th>\n",
       "      <th>Price</th>\n",
       "      <th>Body</th>\n",
       "      <th>Mileage</th>\n",
       "      <th>EngineV</th>\n",
       "      <th>Engine Type</th>\n",
       "      <th>Registration</th>\n",
       "      <th>Year</th>\n",
       "    </tr>\n",
       "  </thead>\n",
       "  <tbody>\n",
       "    <tr>\n",
       "      <th>count</th>\n",
       "      <td>3907</td>\n",
       "      <td>3907.000000</td>\n",
       "      <td>3907</td>\n",
       "      <td>3907.000000</td>\n",
       "      <td>3907.000000</td>\n",
       "      <td>3907</td>\n",
       "      <td>3907</td>\n",
       "      <td>3907.000000</td>\n",
       "    </tr>\n",
       "    <tr>\n",
       "      <th>unique</th>\n",
       "      <td>7</td>\n",
       "      <td>NaN</td>\n",
       "      <td>6</td>\n",
       "      <td>NaN</td>\n",
       "      <td>NaN</td>\n",
       "      <td>4</td>\n",
       "      <td>2</td>\n",
       "      <td>NaN</td>\n",
       "    </tr>\n",
       "    <tr>\n",
       "      <th>top</th>\n",
       "      <td>Volkswagen</td>\n",
       "      <td>NaN</td>\n",
       "      <td>sedan</td>\n",
       "      <td>NaN</td>\n",
       "      <td>NaN</td>\n",
       "      <td>Diesel</td>\n",
       "      <td>yes</td>\n",
       "      <td>NaN</td>\n",
       "    </tr>\n",
       "    <tr>\n",
       "      <th>freq</th>\n",
       "      <td>848</td>\n",
       "      <td>NaN</td>\n",
       "      <td>1472</td>\n",
       "      <td>NaN</td>\n",
       "      <td>NaN</td>\n",
       "      <td>1815</td>\n",
       "      <td>3545</td>\n",
       "      <td>NaN</td>\n",
       "    </tr>\n",
       "    <tr>\n",
       "      <th>mean</th>\n",
       "      <td>NaN</td>\n",
       "      <td>19960.692119</td>\n",
       "      <td>NaN</td>\n",
       "      <td>158.929358</td>\n",
       "      <td>2.474771</td>\n",
       "      <td>NaN</td>\n",
       "      <td>NaN</td>\n",
       "      <td>2006.798055</td>\n",
       "    </tr>\n",
       "    <tr>\n",
       "      <th>std</th>\n",
       "      <td>NaN</td>\n",
       "      <td>26048.838086</td>\n",
       "      <td>NaN</td>\n",
       "      <td>96.242696</td>\n",
       "      <td>0.978819</td>\n",
       "      <td>NaN</td>\n",
       "      <td>NaN</td>\n",
       "      <td>6.127291</td>\n",
       "    </tr>\n",
       "    <tr>\n",
       "      <th>min</th>\n",
       "      <td>NaN</td>\n",
       "      <td>800.000000</td>\n",
       "      <td>NaN</td>\n",
       "      <td>0.000000</td>\n",
       "      <td>0.600000</td>\n",
       "      <td>NaN</td>\n",
       "      <td>NaN</td>\n",
       "      <td>1988.000000</td>\n",
       "    </tr>\n",
       "    <tr>\n",
       "      <th>25%</th>\n",
       "      <td>NaN</td>\n",
       "      <td>7274.500000</td>\n",
       "      <td>NaN</td>\n",
       "      <td>89.500000</td>\n",
       "      <td>1.800000</td>\n",
       "      <td>NaN</td>\n",
       "      <td>NaN</td>\n",
       "      <td>2003.000000</td>\n",
       "    </tr>\n",
       "    <tr>\n",
       "      <th>50%</th>\n",
       "      <td>NaN</td>\n",
       "      <td>11800.000000</td>\n",
       "      <td>NaN</td>\n",
       "      <td>155.000000</td>\n",
       "      <td>2.200000</td>\n",
       "      <td>NaN</td>\n",
       "      <td>NaN</td>\n",
       "      <td>2008.000000</td>\n",
       "    </tr>\n",
       "    <tr>\n",
       "      <th>75%</th>\n",
       "      <td>NaN</td>\n",
       "      <td>22000.000000</td>\n",
       "      <td>NaN</td>\n",
       "      <td>225.000000</td>\n",
       "      <td>3.000000</td>\n",
       "      <td>NaN</td>\n",
       "      <td>NaN</td>\n",
       "      <td>2012.000000</td>\n",
       "    </tr>\n",
       "    <tr>\n",
       "      <th>max</th>\n",
       "      <td>NaN</td>\n",
       "      <td>300000.000000</td>\n",
       "      <td>NaN</td>\n",
       "      <td>433.000000</td>\n",
       "      <td>6.300000</td>\n",
       "      <td>NaN</td>\n",
       "      <td>NaN</td>\n",
       "      <td>2016.000000</td>\n",
       "    </tr>\n",
       "  </tbody>\n",
       "</table>\n",
       "</div>"
      ],
      "text/plain": [
       "             Brand          Price   Body      Mileage      EngineV  \\\n",
       "count         3907    3907.000000   3907  3907.000000  3907.000000   \n",
       "unique           7            NaN      6          NaN          NaN   \n",
       "top     Volkswagen            NaN  sedan          NaN          NaN   \n",
       "freq           848            NaN   1472          NaN          NaN   \n",
       "mean           NaN   19960.692119    NaN   158.929358     2.474771   \n",
       "std            NaN   26048.838086    NaN    96.242696     0.978819   \n",
       "min            NaN     800.000000    NaN     0.000000     0.600000   \n",
       "25%            NaN    7274.500000    NaN    89.500000     1.800000   \n",
       "50%            NaN   11800.000000    NaN   155.000000     2.200000   \n",
       "75%            NaN   22000.000000    NaN   225.000000     3.000000   \n",
       "max            NaN  300000.000000    NaN   433.000000     6.300000   \n",
       "\n",
       "       Engine Type Registration         Year  \n",
       "count         3907         3907  3907.000000  \n",
       "unique           4            2          NaN  \n",
       "top         Diesel          yes          NaN  \n",
       "freq          1815         3545          NaN  \n",
       "mean           NaN          NaN  2006.798055  \n",
       "std            NaN          NaN     6.127291  \n",
       "min            NaN          NaN  1988.000000  \n",
       "25%            NaN          NaN  2003.000000  \n",
       "50%            NaN          NaN  2008.000000  \n",
       "75%            NaN          NaN  2012.000000  \n",
       "max            NaN          NaN  2016.000000  "
      ]
     },
     "execution_count": 20,
     "metadata": {},
     "output_type": "execute_result"
    }
   ],
   "source": [
    "data_cleaned.describe(include='all')"
   ]
  },
  {
   "cell_type": "markdown",
   "metadata": {},
   "source": [
    "Checking the OLS Assumptions "
   ]
  },
  {
   "cell_type": "code",
   "execution_count": 21,
   "metadata": {},
   "outputs": [
    {
     "data": {
      "image/png": "[encoded data removed]",
      "text/plain": [
       "<Figure size 1080x216 with 3 Axes>"
      ]
     },
     "metadata": {
      "needs_background": "light"
     },
     "output_type": "display_data"
    }
   ],
   "source": [
    "f, (ax1,ax2,ax3) = plt.subplots(1,3,sharey=True,figsize = (15,3))\n",
    "ax1.scatter(data_cleaned['Year'],data_cleaned['Price'])\n",
    "ax1.set_title('Price and Year')\n",
    "ax2.scatter(data_cleaned['EngineV'],data_cleaned['Price'])\n",
    "ax2.set_title('Price and EngineV')\n",
    "ax3.scatter(data_cleaned['Mileage'],data_cleaned['Price'])\n",
    "ax3.set_title('Price and Mileage')\n",
    "\n",
    "plt.show()"
   ]
  },
  {
   "cell_type": "code",
   "execution_count": 22,
   "metadata": {},
   "outputs": [
    {
     "name": "stderr",
     "output_type": "stream",
     "text": [
      "c:\\Python310\\lib\\site-packages\\seaborn\\distributions.py:2619: FutureWarning: `distplot` is a deprecated function and will be removed in a future version. Please adapt your code to use either `displot` (a figure-level function with similar flexibility) or `histplot` (an axes-level function for histograms).\n",
      "  warnings.warn(msg, FutureWarning)\n"
     ]
    },
    {
     "data": {
      "text/plain": [
       "<AxesSubplot:xlabel='Price', ylabel='Density'>"
      ]
     },
     "execution_count": 22,
     "metadata": {},
     "output_type": "execute_result"
    },
    {
     "data": {
      "image/png": "[encoded data removed]",
      "text/plain": [
       "<Figure size 432x288 with 1 Axes>"
      ]
     },
     "metadata": {
      "needs_background": "light"
     },
     "output_type": "display_data"
    }
   ],
   "source": [
    "sb.distplot(data_cleaned['Price'])"
   ]
  },
  {
   "cell_type": "markdown",
   "metadata": {},
   "source": [
    "Relaxing the Assumpitons "
   ]
  },
  {
   "cell_type": "code",
   "execution_count": 23,
   "metadata": {},
   "outputs": [
    {
     "data": {
      "text/html": [
       "<div>\n",
       "<style scoped>\n",
       "    .dataframe tbody tr th:only-of-type {\n",
       "        vertical-align: middle;\n",
       "    }\n",
       "\n",
       "    .dataframe tbody tr th {\n",
       "        vertical-align: top;\n",
       "    }\n",
       "\n",
       "    .dataframe thead th {\n",
       "        text-align: right;\n",
       "    }\n",
       "</style>\n",
       "<table border=\"1\" class=\"dataframe\">\n",
       "  <thead>\n",
       "    <tr style=\"text-align: right;\">\n",
       "      <th></th>\n",
       "      <th>Brand</th>\n",
       "      <th>Price</th>\n",
       "      <th>Body</th>\n",
       "      <th>Mileage</th>\n",
       "      <th>EngineV</th>\n",
       "      <th>Engine Type</th>\n",
       "      <th>Registration</th>\n",
       "      <th>Year</th>\n",
       "      <th>log_price</th>\n",
       "    </tr>\n",
       "  </thead>\n",
       "  <tbody>\n",
       "    <tr>\n",
       "      <th>0</th>\n",
       "      <td>BMW</td>\n",
       "      <td>4200.0</td>\n",
       "      <td>sedan</td>\n",
       "      <td>277</td>\n",
       "      <td>2.0</td>\n",
       "      <td>Petrol</td>\n",
       "      <td>yes</td>\n",
       "      <td>1991</td>\n",
       "      <td>8.342840</td>\n",
       "    </tr>\n",
       "    <tr>\n",
       "      <th>1</th>\n",
       "      <td>Mercedes-Benz</td>\n",
       "      <td>7900.0</td>\n",
       "      <td>van</td>\n",
       "      <td>427</td>\n",
       "      <td>2.9</td>\n",
       "      <td>Diesel</td>\n",
       "      <td>yes</td>\n",
       "      <td>1999</td>\n",
       "      <td>8.974618</td>\n",
       "    </tr>\n",
       "    <tr>\n",
       "      <th>2</th>\n",
       "      <td>Mercedes-Benz</td>\n",
       "      <td>13300.0</td>\n",
       "      <td>sedan</td>\n",
       "      <td>358</td>\n",
       "      <td>5.0</td>\n",
       "      <td>Gas</td>\n",
       "      <td>yes</td>\n",
       "      <td>2003</td>\n",
       "      <td>9.495519</td>\n",
       "    </tr>\n",
       "    <tr>\n",
       "      <th>3</th>\n",
       "      <td>Audi</td>\n",
       "      <td>23000.0</td>\n",
       "      <td>crossover</td>\n",
       "      <td>240</td>\n",
       "      <td>4.2</td>\n",
       "      <td>Petrol</td>\n",
       "      <td>yes</td>\n",
       "      <td>2007</td>\n",
       "      <td>10.043249</td>\n",
       "    </tr>\n",
       "    <tr>\n",
       "      <th>4</th>\n",
       "      <td>Toyota</td>\n",
       "      <td>18300.0</td>\n",
       "      <td>crossover</td>\n",
       "      <td>120</td>\n",
       "      <td>2.0</td>\n",
       "      <td>Petrol</td>\n",
       "      <td>yes</td>\n",
       "      <td>2011</td>\n",
       "      <td>9.814656</td>\n",
       "    </tr>\n",
       "    <tr>\n",
       "      <th>...</th>\n",
       "      <td>...</td>\n",
       "      <td>...</td>\n",
       "      <td>...</td>\n",
       "      <td>...</td>\n",
       "      <td>...</td>\n",
       "      <td>...</td>\n",
       "      <td>...</td>\n",
       "      <td>...</td>\n",
       "      <td>...</td>\n",
       "    </tr>\n",
       "    <tr>\n",
       "      <th>3902</th>\n",
       "      <td>Volkswagen</td>\n",
       "      <td>11500.0</td>\n",
       "      <td>van</td>\n",
       "      <td>163</td>\n",
       "      <td>2.5</td>\n",
       "      <td>Diesel</td>\n",
       "      <td>yes</td>\n",
       "      <td>2008</td>\n",
       "      <td>9.350102</td>\n",
       "    </tr>\n",
       "    <tr>\n",
       "      <th>3903</th>\n",
       "      <td>Toyota</td>\n",
       "      <td>17900.0</td>\n",
       "      <td>sedan</td>\n",
       "      <td>35</td>\n",
       "      <td>1.6</td>\n",
       "      <td>Petrol</td>\n",
       "      <td>yes</td>\n",
       "      <td>2014</td>\n",
       "      <td>9.792556</td>\n",
       "    </tr>\n",
       "    <tr>\n",
       "      <th>3904</th>\n",
       "      <td>Mercedes-Benz</td>\n",
       "      <td>125000.0</td>\n",
       "      <td>sedan</td>\n",
       "      <td>9</td>\n",
       "      <td>3.0</td>\n",
       "      <td>Diesel</td>\n",
       "      <td>yes</td>\n",
       "      <td>2014</td>\n",
       "      <td>11.736069</td>\n",
       "    </tr>\n",
       "    <tr>\n",
       "      <th>3905</th>\n",
       "      <td>BMW</td>\n",
       "      <td>6500.0</td>\n",
       "      <td>sedan</td>\n",
       "      <td>1</td>\n",
       "      <td>3.5</td>\n",
       "      <td>Petrol</td>\n",
       "      <td>yes</td>\n",
       "      <td>1999</td>\n",
       "      <td>8.779557</td>\n",
       "    </tr>\n",
       "    <tr>\n",
       "      <th>3906</th>\n",
       "      <td>Volkswagen</td>\n",
       "      <td>13500.0</td>\n",
       "      <td>van</td>\n",
       "      <td>124</td>\n",
       "      <td>2.0</td>\n",
       "      <td>Diesel</td>\n",
       "      <td>yes</td>\n",
       "      <td>2013</td>\n",
       "      <td>9.510445</td>\n",
       "    </tr>\n",
       "  </tbody>\n",
       "</table>\n",
       "<p>3907 rows × 9 columns</p>\n",
       "</div>"
      ],
      "text/plain": [
       "              Brand     Price       Body  Mileage  EngineV Engine Type  \\\n",
       "0               BMW    4200.0      sedan      277      2.0      Petrol   \n",
       "1     Mercedes-Benz    7900.0        van      427      2.9      Diesel   \n",
       "2     Mercedes-Benz   13300.0      sedan      358      5.0         Gas   \n",
       "3              Audi   23000.0  crossover      240      4.2      Petrol   \n",
       "4            Toyota   18300.0  crossover      120      2.0      Petrol   \n",
       "...             ...       ...        ...      ...      ...         ...   \n",
       "3902     Volkswagen   11500.0        van      163      2.5      Diesel   \n",
       "3903         Toyota   17900.0      sedan       35      1.6      Petrol   \n",
       "3904  Mercedes-Benz  125000.0      sedan        9      3.0      Diesel   \n",
       "3905            BMW    6500.0      sedan        1      3.5      Petrol   \n",
       "3906     Volkswagen   13500.0        van      124      2.0      Diesel   \n",
       "\n",
       "     Registration  Year  log_price  \n",
       "0             yes  1991   8.342840  \n",
       "1             yes  1999   8.974618  \n",
       "2             yes  2003   9.495519  \n",
       "3             yes  2007  10.043249  \n",
       "4             yes  2011   9.814656  \n",
       "...           ...   ...        ...  \n",
       "3902          yes  2008   9.350102  \n",
       "3903          yes  2014   9.792556  \n",
       "3904          yes  2014  11.736069  \n",
       "3905          yes  1999   8.779557  \n",
       "3906          yes  2013   9.510445  \n",
       "\n",
       "[3907 rows x 9 columns]"
      ]
     },
     "execution_count": 23,
     "metadata": {},
     "output_type": "execute_result"
    }
   ],
   "source": [
    "log_price = np.log(data_cleaned['Price'])\n",
    "data_cleaned['log_price'] = log_price\n",
    "data_cleaned"
   ]
  },
  {
   "cell_type": "code",
   "execution_count": 24,
   "metadata": {},
   "outputs": [
    {
     "data": {
      "image/png": "[encoded data removed]",
      "text/plain": [
       "<Figure size 1080x216 with 3 Axes>"
      ]
     },
     "metadata": {
      "needs_background": "light"
     },
     "output_type": "display_data"
    }
   ],
   "source": [
    "f, (ax1,ax2,ax3) = plt.subplots(1,3,sharey=True,figsize = (15,3))\n",
    "ax1.scatter(data_cleaned['Year'],data_cleaned['log_price'])\n",
    "ax1.set_title('Log Price and Year')\n",
    "ax2.scatter(data_cleaned['EngineV'],data_cleaned['log_price'])\n",
    "ax2.set_title('Log Price and EngineV')\n",
    "ax3.scatter(data_cleaned['Mileage'],data_cleaned['log_price'])\n",
    "ax3.set_title('Log Price and Mileage')\n",
    "\n",
    "plt.show()"
   ]
  },
  {
   "cell_type": "code",
   "execution_count": 25,
   "metadata": {},
   "outputs": [],
   "source": [
    "data_cleaned = data_cleaned.drop(['Price'],axis=1)"
   ]
  },
  {
   "cell_type": "markdown",
   "metadata": {},
   "source": [
    "Multicollinearity"
   ]
  },
  {
   "cell_type": "code",
   "execution_count": 26,
   "metadata": {},
   "outputs": [
    {
     "data": {
      "text/plain": [
       "array(['Brand', 'Body', 'Mileage', 'EngineV', 'Engine Type',\n",
       "       'Registration', 'Year', 'log_price'], dtype=object)"
      ]
     },
     "execution_count": 26,
     "metadata": {},
     "output_type": "execute_result"
    }
   ],
   "source": [
    "data_cleaned.columns.values"
   ]
  },
  {
   "cell_type": "code",
   "execution_count": 27,
   "metadata": {},
   "outputs": [],
   "source": [
    "from statsmodels.stats.outliers_influence import variance_inflation_factor\n",
    "variables = data_cleaned[['Mileage','Year','EngineV']]\n",
    "vif = pm.DataFrame()\n",
    "vif['VIF'] = [variance_inflation_factor(variables.values,i) for i in range(variables.shape[1])]"
   ]
  },
  {
   "cell_type": "code",
   "execution_count": 28,
   "metadata": {},
   "outputs": [
    {
     "data": {
      "text/html": [
       "<div>\n",
       "<style scoped>\n",
       "    .dataframe tbody tr th:only-of-type {\n",
       "        vertical-align: middle;\n",
       "    }\n",
       "\n",
       "    .dataframe tbody tr th {\n",
       "        vertical-align: top;\n",
       "    }\n",
       "\n",
       "    .dataframe thead th {\n",
       "        text-align: right;\n",
       "    }\n",
       "</style>\n",
       "<table border=\"1\" class=\"dataframe\">\n",
       "  <thead>\n",
       "    <tr style=\"text-align: right;\">\n",
       "      <th></th>\n",
       "      <th>VIF</th>\n",
       "    </tr>\n",
       "  </thead>\n",
       "  <tbody>\n",
       "    <tr>\n",
       "      <th>0</th>\n",
       "      <td>3.703266</td>\n",
       "    </tr>\n",
       "    <tr>\n",
       "      <th>1</th>\n",
       "      <td>10.323287</td>\n",
       "    </tr>\n",
       "    <tr>\n",
       "      <th>2</th>\n",
       "      <td>7.400348</td>\n",
       "    </tr>\n",
       "  </tbody>\n",
       "</table>\n",
       "</div>"
      ],
      "text/plain": [
       "         VIF\n",
       "0   3.703266\n",
       "1  10.323287\n",
       "2   7.400348"
      ]
     },
     "execution_count": 28,
     "metadata": {},
     "output_type": "execute_result"
    }
   ],
   "source": [
    "vif"
   ]
  },
  {
   "cell_type": "markdown",
   "metadata": {},
   "source": [
    "VIF = 1 : no Multicollinearity\n",
    "1< VIF < 5 : perfectly okay \n",
    "5 < VIF: unacceptable"
   ]
  },
  {
   "cell_type": "code",
   "execution_count": 29,
   "metadata": {},
   "outputs": [],
   "source": [
    "data_no_multicollinearity = data_cleaned.drop(['Year'],axis=1)"
   ]
  },
  {
   "cell_type": "markdown",
   "metadata": {},
   "source": [
    "Create the dummy variables"
   ]
  },
  {
   "cell_type": "code",
   "execution_count": 30,
   "metadata": {},
   "outputs": [],
   "source": [
    "data_with_dummies = pm.get_dummies(data_no_multicollinearity,drop_first=True)"
   ]
  },
  {
   "cell_type": "code",
   "execution_count": 31,
   "metadata": {},
   "outputs": [
    {
     "data": {
      "text/html": [
       "<div>\n",
       "<style scoped>\n",
       "    .dataframe tbody tr th:only-of-type {\n",
       "        vertical-align: middle;\n",
       "    }\n",
       "\n",
       "    .dataframe tbody tr th {\n",
       "        vertical-align: top;\n",
       "    }\n",
       "\n",
       "    .dataframe thead th {\n",
       "        text-align: right;\n",
       "    }\n",
       "</style>\n",
       "<table border=\"1\" class=\"dataframe\">\n",
       "  <thead>\n",
       "    <tr style=\"text-align: right;\">\n",
       "      <th></th>\n",
       "      <th>Mileage</th>\n",
       "      <th>EngineV</th>\n",
       "      <th>log_price</th>\n",
       "      <th>Brand_BMW</th>\n",
       "      <th>Brand_Mercedes-Benz</th>\n",
       "      <th>Brand_Mitsubishi</th>\n",
       "      <th>Brand_Renault</th>\n",
       "      <th>Brand_Toyota</th>\n",
       "      <th>Brand_Volkswagen</th>\n",
       "      <th>Body_hatch</th>\n",
       "      <th>Body_other</th>\n",
       "      <th>Body_sedan</th>\n",
       "      <th>Body_vagon</th>\n",
       "      <th>Body_van</th>\n",
       "      <th>Engine Type_Gas</th>\n",
       "      <th>Engine Type_Other</th>\n",
       "      <th>Engine Type_Petrol</th>\n",
       "      <th>Registration_yes</th>\n",
       "    </tr>\n",
       "  </thead>\n",
       "  <tbody>\n",
       "    <tr>\n",
       "      <th>0</th>\n",
       "      <td>277</td>\n",
       "      <td>2.0</td>\n",
       "      <td>8.342840</td>\n",
       "      <td>1</td>\n",
       "      <td>0</td>\n",
       "      <td>0</td>\n",
       "      <td>0</td>\n",
       "      <td>0</td>\n",
       "      <td>0</td>\n",
       "      <td>0</td>\n",
       "      <td>0</td>\n",
       "      <td>1</td>\n",
       "      <td>0</td>\n",
       "      <td>0</td>\n",
       "      <td>0</td>\n",
       "      <td>0</td>\n",
       "      <td>1</td>\n",
       "      <td>1</td>\n",
       "    </tr>\n",
       "    <tr>\n",
       "      <th>1</th>\n",
       "      <td>427</td>\n",
       "      <td>2.9</td>\n",
       "      <td>8.974618</td>\n",
       "      <td>0</td>\n",
       "      <td>1</td>\n",
       "      <td>0</td>\n",
       "      <td>0</td>\n",
       "      <td>0</td>\n",
       "      <td>0</td>\n",
       "      <td>0</td>\n",
       "      <td>0</td>\n",
       "      <td>0</td>\n",
       "      <td>0</td>\n",
       "      <td>1</td>\n",
       "      <td>0</td>\n",
       "      <td>0</td>\n",
       "      <td>0</td>\n",
       "      <td>1</td>\n",
       "    </tr>\n",
       "    <tr>\n",
       "      <th>2</th>\n",
       "      <td>358</td>\n",
       "      <td>5.0</td>\n",
       "      <td>9.495519</td>\n",
       "      <td>0</td>\n",
       "      <td>1</td>\n",
       "      <td>0</td>\n",
       "      <td>0</td>\n",
       "      <td>0</td>\n",
       "      <td>0</td>\n",
       "      <td>0</td>\n",
       "      <td>0</td>\n",
       "      <td>1</td>\n",
       "      <td>0</td>\n",
       "      <td>0</td>\n",
       "      <td>1</td>\n",
       "      <td>0</td>\n",
       "      <td>0</td>\n",
       "      <td>1</td>\n",
       "    </tr>\n",
       "    <tr>\n",
       "      <th>3</th>\n",
       "      <td>240</td>\n",
       "      <td>4.2</td>\n",
       "      <td>10.043249</td>\n",
       "      <td>0</td>\n",
       "      <td>0</td>\n",
       "      <td>0</td>\n",
       "      <td>0</td>\n",
       "      <td>0</td>\n",
       "      <td>0</td>\n",
       "      <td>0</td>\n",
       "      <td>0</td>\n",
       "      <td>0</td>\n",
       "      <td>0</td>\n",
       "      <td>0</td>\n",
       "      <td>0</td>\n",
       "      <td>0</td>\n",
       "      <td>1</td>\n",
       "      <td>1</td>\n",
       "    </tr>\n",
       "    <tr>\n",
       "      <th>4</th>\n",
       "      <td>120</td>\n",
       "      <td>2.0</td>\n",
       "      <td>9.814656</td>\n",
       "      <td>0</td>\n",
       "      <td>0</td>\n",
       "      <td>0</td>\n",
       "      <td>0</td>\n",
       "      <td>1</td>\n",
       "      <td>0</td>\n",
       "      <td>0</td>\n",
       "      <td>0</td>\n",
       "      <td>0</td>\n",
       "      <td>0</td>\n",
       "      <td>0</td>\n",
       "      <td>0</td>\n",
       "      <td>0</td>\n",
       "      <td>1</td>\n",
       "      <td>1</td>\n",
       "    </tr>\n",
       "  </tbody>\n",
       "</table>\n",
       "</div>"
      ],
      "text/plain": [
       "   Mileage  EngineV  log_price  Brand_BMW  Brand_Mercedes-Benz  \\\n",
       "0      277      2.0   8.342840          1                    0   \n",
       "1      427      2.9   8.974618          0                    1   \n",
       "2      358      5.0   9.495519          0                    1   \n",
       "3      240      4.2  10.043249          0                    0   \n",
       "4      120      2.0   9.814656          0                    0   \n",
       "\n",
       "   Brand_Mitsubishi  Brand_Renault  Brand_Toyota  Brand_Volkswagen  \\\n",
       "0                 0              0             0                 0   \n",
       "1                 0              0             0                 0   \n",
       "2                 0              0             0                 0   \n",
       "3                 0              0             0                 0   \n",
       "4                 0              0             1                 0   \n",
       "\n",
       "   Body_hatch  Body_other  Body_sedan  Body_vagon  Body_van  Engine Type_Gas  \\\n",
       "0           0           0           1           0         0                0   \n",
       "1           0           0           0           0         1                0   \n",
       "2           0           0           1           0         0                1   \n",
       "3           0           0           0           0         0                0   \n",
       "4           0           0           0           0         0                0   \n",
       "\n",
       "   Engine Type_Other  Engine Type_Petrol  Registration_yes  \n",
       "0                  0                   1                 1  \n",
       "1                  0                   0                 1  \n",
       "2                  0                   0                 1  \n",
       "3                  0                   1                 1  \n",
       "4                  0                   1                 1  "
      ]
     },
     "execution_count": 31,
     "metadata": {},
     "output_type": "execute_result"
    }
   ],
   "source": [
    "data_with_dummies.head()"
   ]
  },
  {
   "cell_type": "markdown",
   "metadata": {},
   "source": [
    "Rearrange a bit"
   ]
  },
  {
   "cell_type": "code",
   "execution_count": 32,
   "metadata": {},
   "outputs": [
    {
     "data": {
      "text/plain": [
       "array(['Mileage', 'EngineV', 'log_price', 'Brand_BMW',\n",
       "       'Brand_Mercedes-Benz', 'Brand_Mitsubishi', 'Brand_Renault',\n",
       "       'Brand_Toyota', 'Brand_Volkswagen', 'Body_hatch', 'Body_other',\n",
       "       'Body_sedan', 'Body_vagon', 'Body_van', 'Engine Type_Gas',\n",
       "       'Engine Type_Other', 'Engine Type_Petrol', 'Registration_yes'],\n",
       "      dtype=object)"
      ]
     },
     "execution_count": 32,
     "metadata": {},
     "output_type": "execute_result"
    }
   ],
   "source": [
    "data_with_dummies.columns.values"
   ]
  },
  {
   "cell_type": "code",
   "execution_count": 33,
   "metadata": {},
   "outputs": [],
   "source": [
    "cols = ['log_price','Mileage', 'EngineV', 'Brand_BMW',\n",
    "       'Brand_Mercedes-Benz', 'Brand_Mitsubishi', 'Brand_Renault',\n",
    "       'Brand_Toyota', 'Brand_Volkswagen', 'Body_hatch', 'Body_other',\n",
    "       'Body_sedan', 'Body_vagon', 'Body_van', 'Engine Type_Gas',\n",
    "       'Engine Type_Other', 'Engine Type_Petrol', 'Registration_yes']"
   ]
  },
  {
   "cell_type": "code",
   "execution_count": 34,
   "metadata": {},
   "outputs": [
    {
     "data": {
      "text/html": [
       "<div>\n",
       "<style scoped>\n",
       "    .dataframe tbody tr th:only-of-type {\n",
       "        vertical-align: middle;\n",
       "    }\n",
       "\n",
       "    .dataframe tbody tr th {\n",
       "        vertical-align: top;\n",
       "    }\n",
       "\n",
       "    .dataframe thead th {\n",
       "        text-align: right;\n",
       "    }\n",
       "</style>\n",
       "<table border=\"1\" class=\"dataframe\">\n",
       "  <thead>\n",
       "    <tr style=\"text-align: right;\">\n",
       "      <th></th>\n",
       "      <th>log_price</th>\n",
       "      <th>Mileage</th>\n",
       "      <th>EngineV</th>\n",
       "      <th>Brand_BMW</th>\n",
       "      <th>Brand_Mercedes-Benz</th>\n",
       "      <th>Brand_Mitsubishi</th>\n",
       "      <th>Brand_Renault</th>\n",
       "      <th>Brand_Toyota</th>\n",
       "      <th>Brand_Volkswagen</th>\n",
       "      <th>Body_hatch</th>\n",
       "      <th>Body_other</th>\n",
       "      <th>Body_sedan</th>\n",
       "      <th>Body_vagon</th>\n",
       "      <th>Body_van</th>\n",
       "      <th>Engine Type_Gas</th>\n",
       "      <th>Engine Type_Other</th>\n",
       "      <th>Engine Type_Petrol</th>\n",
       "      <th>Registration_yes</th>\n",
       "    </tr>\n",
       "  </thead>\n",
       "  <tbody>\n",
       "    <tr>\n",
       "      <th>0</th>\n",
       "      <td>8.342840</td>\n",
       "      <td>277</td>\n",
       "      <td>2.0</td>\n",
       "      <td>1</td>\n",
       "      <td>0</td>\n",
       "      <td>0</td>\n",
       "      <td>0</td>\n",
       "      <td>0</td>\n",
       "      <td>0</td>\n",
       "      <td>0</td>\n",
       "      <td>0</td>\n",
       "      <td>1</td>\n",
       "      <td>0</td>\n",
       "      <td>0</td>\n",
       "      <td>0</td>\n",
       "      <td>0</td>\n",
       "      <td>1</td>\n",
       "      <td>1</td>\n",
       "    </tr>\n",
       "    <tr>\n",
       "      <th>1</th>\n",
       "      <td>8.974618</td>\n",
       "      <td>427</td>\n",
       "      <td>2.9</td>\n",
       "      <td>0</td>\n",
       "      <td>1</td>\n",
       "      <td>0</td>\n",
       "      <td>0</td>\n",
       "      <td>0</td>\n",
       "      <td>0</td>\n",
       "      <td>0</td>\n",
       "      <td>0</td>\n",
       "      <td>0</td>\n",
       "      <td>0</td>\n",
       "      <td>1</td>\n",
       "      <td>0</td>\n",
       "      <td>0</td>\n",
       "      <td>0</td>\n",
       "      <td>1</td>\n",
       "    </tr>\n",
       "    <tr>\n",
       "      <th>2</th>\n",
       "      <td>9.495519</td>\n",
       "      <td>358</td>\n",
       "      <td>5.0</td>\n",
       "      <td>0</td>\n",
       "      <td>1</td>\n",
       "      <td>0</td>\n",
       "      <td>0</td>\n",
       "      <td>0</td>\n",
       "      <td>0</td>\n",
       "      <td>0</td>\n",
       "      <td>0</td>\n",
       "      <td>1</td>\n",
       "      <td>0</td>\n",
       "      <td>0</td>\n",
       "      <td>1</td>\n",
       "      <td>0</td>\n",
       "      <td>0</td>\n",
       "      <td>1</td>\n",
       "    </tr>\n",
       "    <tr>\n",
       "      <th>3</th>\n",
       "      <td>10.043249</td>\n",
       "      <td>240</td>\n",
       "      <td>4.2</td>\n",
       "      <td>0</td>\n",
       "      <td>0</td>\n",
       "      <td>0</td>\n",
       "      <td>0</td>\n",
       "      <td>0</td>\n",
       "      <td>0</td>\n",
       "      <td>0</td>\n",
       "      <td>0</td>\n",
       "      <td>0</td>\n",
       "      <td>0</td>\n",
       "      <td>0</td>\n",
       "      <td>0</td>\n",
       "      <td>0</td>\n",
       "      <td>1</td>\n",
       "      <td>1</td>\n",
       "    </tr>\n",
       "    <tr>\n",
       "      <th>4</th>\n",
       "      <td>9.814656</td>\n",
       "      <td>120</td>\n",
       "      <td>2.0</td>\n",
       "      <td>0</td>\n",
       "      <td>0</td>\n",
       "      <td>0</td>\n",
       "      <td>0</td>\n",
       "      <td>1</td>\n",
       "      <td>0</td>\n",
       "      <td>0</td>\n",
       "      <td>0</td>\n",
       "      <td>0</td>\n",
       "      <td>0</td>\n",
       "      <td>0</td>\n",
       "      <td>0</td>\n",
       "      <td>0</td>\n",
       "      <td>1</td>\n",
       "      <td>1</td>\n",
       "    </tr>\n",
       "  </tbody>\n",
       "</table>\n",
       "</div>"
      ],
      "text/plain": [
       "   log_price  Mileage  EngineV  Brand_BMW  Brand_Mercedes-Benz  \\\n",
       "0   8.342840      277      2.0          1                    0   \n",
       "1   8.974618      427      2.9          0                    1   \n",
       "2   9.495519      358      5.0          0                    1   \n",
       "3  10.043249      240      4.2          0                    0   \n",
       "4   9.814656      120      2.0          0                    0   \n",
       "\n",
       "   Brand_Mitsubishi  Brand_Renault  Brand_Toyota  Brand_Volkswagen  \\\n",
       "0                 0              0             0                 0   \n",
       "1                 0              0             0                 0   \n",
       "2                 0              0             0                 0   \n",
       "3                 0              0             0                 0   \n",
       "4                 0              0             1                 0   \n",
       "\n",
       "   Body_hatch  Body_other  Body_sedan  Body_vagon  Body_van  Engine Type_Gas  \\\n",
       "0           0           0           1           0         0                0   \n",
       "1           0           0           0           0         1                0   \n",
       "2           0           0           1           0         0                1   \n",
       "3           0           0           0           0         0                0   \n",
       "4           0           0           0           0         0                0   \n",
       "\n",
       "   Engine Type_Other  Engine Type_Petrol  Registration_yes  \n",
       "0                  0                   1                 1  \n",
       "1                  0                   0                 1  \n",
       "2                  0                   0                 1  \n",
       "3                  0                   1                 1  \n",
       "4                  0                   1                 1  "
      ]
     },
     "execution_count": 34,
     "metadata": {},
     "output_type": "execute_result"
    }
   ],
   "source": [
    "data_preprocessed = data_with_dummies[cols]\n",
    "data_preprocessed.head()"
   ]
  },
  {
   "cell_type": "markdown",
   "metadata": {},
   "source": [
    "Linear Regression Model"
   ]
  },
  {
   "cell_type": "markdown",
   "metadata": {},
   "source": [
    "Declare the inputs and the targets"
   ]
  },
  {
   "cell_type": "code",
   "execution_count": 35,
   "metadata": {},
   "outputs": [],
   "source": [
    "targets = data_preprocessed['log_price']\n",
    "inputs = data_preprocessed.drop(['log_price'],axis=1)"
   ]
  },
  {
   "cell_type": "markdown",
   "metadata": {},
   "source": [
    "Scale the data"
   ]
  },
  {
   "cell_type": "code",
   "execution_count": 36,
   "metadata": {},
   "outputs": [
    {
     "data": {
      "text/html": [
       "<style>#sk-container-id-1 {color: black;background-color: white;}#sk-container-id-1 pre{padding: 0;}#sk-container-id-1 div.sk-toggleable {background-color: white;}#sk-container-id-1 label.sk-toggleable__label {cursor: pointer;display: block;width: 100%;margin-bottom: 0;padding: 0.3em;box-sizing: border-box;text-align: center;}#sk-container-id-1 label.sk-toggleable__label-arrow:before {content: \"▸\";float: left;margin-right: 0.25em;color: #696969;}#sk-container-id-1 label.sk-toggleable__label-arrow:hover:before {color: black;}#sk-container-id-1 div.sk-estimator:hover label.sk-toggleable__label-arrow:before {color: black;}#sk-container-id-1 div.sk-toggleable__content {max-height: 0;max-width: 0;overflow: hidden;text-align: left;background-color: #f0f8ff;}#sk-container-id-1 div.sk-toggleable__content pre {margin: 0.2em;color: black;border-radius: 0.25em;background-color: #f0f8ff;}#sk-container-id-1 input.sk-toggleable__control:checked~div.sk-toggleable__content {max-height: 200px;max-width: 100%;overflow: auto;}#sk-container-id-1 input.sk-toggleable__control:checked~label.sk-toggleable__label-arrow:before {content: \"▾\";}#sk-container-id-1 div.sk-estimator input.sk-toggleable__control:checked~label.sk-toggleable__label {background-color: #d4ebff;}#sk-container-id-1 div.sk-label input.sk-toggleable__control:checked~label.sk-toggleable__label {background-color: #d4ebff;}#sk-container-id-1 input.sk-hidden--visually {border: 0;clip: rect(1px 1px 1px 1px);clip: rect(1px, 1px, 1px, 1px);height: 1px;margin: -1px;overflow: hidden;padding: 0;position: absolute;width: 1px;}#sk-container-id-1 div.sk-estimator {font-family: monospace;background-color: #f0f8ff;border: 1px dotted black;border-radius: 0.25em;box-sizing: border-box;margin-bottom: 0.5em;}#sk-container-id-1 div.sk-estimator:hover {background-color: #d4ebff;}#sk-container-id-1 div.sk-parallel-item::after {content: \"\";width: 100%;border-bottom: 1px solid gray;flex-grow: 1;}#sk-container-id-1 div.sk-label:hover label.sk-toggleable__label {background-color: #d4ebff;}#sk-container-id-1 div.sk-serial::before {content: \"\";position: absolute;border-left: 1px solid gray;box-sizing: border-box;top: 0;bottom: 0;left: 50%;z-index: 0;}#sk-container-id-1 div.sk-serial {display: flex;flex-direction: column;align-items: center;background-color: white;padding-right: 0.2em;padding-left: 0.2em;position: relative;}#sk-container-id-1 div.sk-item {position: relative;z-index: 1;}#sk-container-id-1 div.sk-parallel {display: flex;align-items: stretch;justify-content: center;background-color: white;position: relative;}#sk-container-id-1 div.sk-item::before, #sk-container-id-1 div.sk-parallel-item::before {content: \"\";position: absolute;border-left: 1px solid gray;box-sizing: border-box;top: 0;bottom: 0;left: 50%;z-index: -1;}#sk-container-id-1 div.sk-parallel-item {display: flex;flex-direction: column;z-index: 1;position: relative;background-color: white;}#sk-container-id-1 div.sk-parallel-item:first-child::after {align-self: flex-end;width: 50%;}#sk-container-id-1 div.sk-parallel-item:last-child::after {align-self: flex-start;width: 50%;}#sk-container-id-1 div.sk-parallel-item:only-child::after {width: 0;}#sk-container-id-1 div.sk-dashed-wrapped {border: 1px dashed gray;margin: 0 0.4em 0.5em 0.4em;box-sizing: border-box;padding-bottom: 0.4em;background-color: white;}#sk-container-id-1 div.sk-label label {font-family: monospace;font-weight: bold;display: inline-block;line-height: 1.2em;}#sk-container-id-1 div.sk-label-container {text-align: center;}#sk-container-id-1 div.sk-container {/* jupyter's `normalize.less` sets `[hidden] { display: none; }` but bootstrap.min.css set `[hidden] { display: none !important; }` so we also need the `!important` here to be able to override the default hidden behavior on the sphinx rendered scikit-learn.org. See: https://github.com/scikit-learn/scikit-learn/issues/21755 */display: inline-block !important;position: relative;}#sk-container-id-1 div.sk-text-repr-fallback {display: none;}</style><div id=\"sk-container-id-1\" class=\"sk-top-container\"><div class=\"sk-text-repr-fallback\"><pre>StandardScaler()</pre><b>In a Jupyter environment, please rerun this cell to show the HTML representation or trust the notebook. <br />On GitHub, the HTML representation is unable to render, please try loading this page with nbviewer.org.</b></div><div class=\"sk-container\" hidden><div class=\"sk-item\"><div class=\"sk-estimator sk-toggleable\"><input class=\"sk-toggleable__control sk-hidden--visually\" id=\"sk-estimator-id-1\" type=\"checkbox\" checked><label for=\"sk-estimator-id-1\" class=\"sk-toggleable__label sk-toggleable__label-arrow\">StandardScaler</label><div class=\"sk-toggleable__content\"><pre>StandardScaler()</pre></div></div></div></div></div>"
      ],
      "text/plain": [
       "StandardScaler()"
      ]
     },
     "execution_count": 36,
     "metadata": {},
     "output_type": "execute_result"
    }
   ],
   "source": [
    "from sklearn.preprocessing import StandardScaler\n",
    "\n",
    "scaler = StandardScaler()\n",
    "scaler.fit(inputs)"
   ]
  },
  {
   "cell_type": "code",
   "execution_count": 37,
   "metadata": {},
   "outputs": [],
   "source": [
    "inputs_scaled = scaler.transform(inputs)"
   ]
  },
  {
   "cell_type": "markdown",
   "metadata": {},
   "source": [
    "Train and Test "
   ]
  },
  {
   "cell_type": "code",
   "execution_count": 38,
   "metadata": {},
   "outputs": [],
   "source": [
    "from sklearn.model_selection import train_test_split\n",
    "\n",
    "x_train, x_test, y_train, y_test = train_test_split(inputs_scaled, targets, test_size=0.2,random_state=365)"
   ]
  },
  {
   "cell_type": "markdown",
   "metadata": {},
   "source": [
    "Create The Regression"
   ]
  },
  {
   "cell_type": "code",
   "execution_count": 39,
   "metadata": {},
   "outputs": [
    {
     "data": {
      "text/html": [
       "<style>#sk-container-id-2 {color: black;background-color: white;}#sk-container-id-2 pre{padding: 0;}#sk-container-id-2 div.sk-toggleable {background-color: white;}#sk-container-id-2 label.sk-toggleable__label {cursor: pointer;display: block;width: 100%;margin-bottom: 0;padding: 0.3em;box-sizing: border-box;text-align: center;}#sk-container-id-2 label.sk-toggleable__label-arrow:before {content: \"▸\";float: left;margin-right: 0.25em;color: #696969;}#sk-container-id-2 label.sk-toggleable__label-arrow:hover:before {color: black;}#sk-container-id-2 div.sk-estimator:hover label.sk-toggleable__label-arrow:before {color: black;}#sk-container-id-2 div.sk-toggleable__content {max-height: 0;max-width: 0;overflow: hidden;text-align: left;background-color: #f0f8ff;}#sk-container-id-2 div.sk-toggleable__content pre {margin: 0.2em;color: black;border-radius: 0.25em;background-color: #f0f8ff;}#sk-container-id-2 input.sk-toggleable__control:checked~div.sk-toggleable__content {max-height: 200px;max-width: 100%;overflow: auto;}#sk-container-id-2 input.sk-toggleable__control:checked~label.sk-toggleable__label-arrow:before {content: \"▾\";}#sk-container-id-2 div.sk-estimator input.sk-toggleable__control:checked~label.sk-toggleable__label {background-color: #d4ebff;}#sk-container-id-2 div.sk-label input.sk-toggleable__control:checked~label.sk-toggleable__label {background-color: #d4ebff;}#sk-container-id-2 input.sk-hidden--visually {border: 0;clip: rect(1px 1px 1px 1px);clip: rect(1px, 1px, 1px, 1px);height: 1px;margin: -1px;overflow: hidden;padding: 0;position: absolute;width: 1px;}#sk-container-id-2 div.sk-estimator {font-family: monospace;background-color: #f0f8ff;border: 1px dotted black;border-radius: 0.25em;box-sizing: border-box;margin-bottom: 0.5em;}#sk-container-id-2 div.sk-estimator:hover {background-color: #d4ebff;}#sk-container-id-2 div.sk-parallel-item::after {content: \"\";width: 100%;border-bottom: 1px solid gray;flex-grow: 1;}#sk-container-id-2 div.sk-label:hover label.sk-toggleable__label {background-color: #d4ebff;}#sk-container-id-2 div.sk-serial::before {content: \"\";position: absolute;border-left: 1px solid gray;box-sizing: border-box;top: 0;bottom: 0;left: 50%;z-index: 0;}#sk-container-id-2 div.sk-serial {display: flex;flex-direction: column;align-items: center;background-color: white;padding-right: 0.2em;padding-left: 0.2em;position: relative;}#sk-container-id-2 div.sk-item {position: relative;z-index: 1;}#sk-container-id-2 div.sk-parallel {display: flex;align-items: stretch;justify-content: center;background-color: white;position: relative;}#sk-container-id-2 div.sk-item::before, #sk-container-id-2 div.sk-parallel-item::before {content: \"\";position: absolute;border-left: 1px solid gray;box-sizing: border-box;top: 0;bottom: 0;left: 50%;z-index: -1;}#sk-container-id-2 div.sk-parallel-item {display: flex;flex-direction: column;z-index: 1;position: relative;background-color: white;}#sk-container-id-2 div.sk-parallel-item:first-child::after {align-self: flex-end;width: 50%;}#sk-container-id-2 div.sk-parallel-item:last-child::after {align-self: flex-start;width: 50%;}#sk-container-id-2 div.sk-parallel-item:only-child::after {width: 0;}#sk-container-id-2 div.sk-dashed-wrapped {border: 1px dashed gray;margin: 0 0.4em 0.5em 0.4em;box-sizing: border-box;padding-bottom: 0.4em;background-color: white;}#sk-container-id-2 div.sk-label label {font-family: monospace;font-weight: bold;display: inline-block;line-height: 1.2em;}#sk-container-id-2 div.sk-label-container {text-align: center;}#sk-container-id-2 div.sk-container {/* jupyter's `normalize.less` sets `[hidden] { display: none; }` but bootstrap.min.css set `[hidden] { display: none !important; }` so we also need the `!important` here to be able to override the default hidden behavior on the sphinx rendered scikit-learn.org. See: https://github.com/scikit-learn/scikit-learn/issues/21755 */display: inline-block !important;position: relative;}#sk-container-id-2 div.sk-text-repr-fallback {display: none;}</style><div id=\"sk-container-id-2\" class=\"sk-top-container\"><div class=\"sk-text-repr-fallback\"><pre>LinearRegression()</pre><b>In a Jupyter environment, please rerun this cell to show the HTML representation or trust the notebook. <br />On GitHub, the HTML representation is unable to render, please try loading this page with nbviewer.org.</b></div><div class=\"sk-container\" hidden><div class=\"sk-item\"><div class=\"sk-estimator sk-toggleable\"><input class=\"sk-toggleable__control sk-hidden--visually\" id=\"sk-estimator-id-2\" type=\"checkbox\" checked><label for=\"sk-estimator-id-2\" class=\"sk-toggleable__label sk-toggleable__label-arrow\">LinearRegression</label><div class=\"sk-toggleable__content\"><pre>LinearRegression()</pre></div></div></div></div></div>"
      ],
      "text/plain": [
       "LinearRegression()"
      ]
     },
     "execution_count": 39,
     "metadata": {},
     "output_type": "execute_result"
    }
   ],
   "source": [
    "reg = LinearRegression()\n",
    "reg.fit(x_train,y_train)"
   ]
  },
  {
   "cell_type": "code",
   "execution_count": 40,
   "metadata": {},
   "outputs": [],
   "source": [
    "y_hat = reg.predict(x_train)"
   ]
  },
  {
   "cell_type": "code",
   "execution_count": 41,
   "metadata": {},
   "outputs": [
    {
     "data": {
      "image/png": "[encoded data removed]",
      "text/plain": [
       "<Figure size 432x288 with 1 Axes>"
      ]
     },
     "metadata": {
      "needs_background": "light"
     },
     "output_type": "display_data"
    }
   ],
   "source": [
    "plt.scatter(y_train, y_hat)\n",
    "plt.xlabel('Targets (y_train)',size=18)\n",
    "plt.ylabel('Predictions (y_hat)',size=18)\n",
    "plt.xlim(6,13)\n",
    "plt.ylim(6,13)\n",
    "plt.show()"
   ]
  },
  {
   "cell_type": "code",
   "execution_count": 42,
   "metadata": {},
   "outputs": [
    {
     "name": "stderr",
     "output_type": "stream",
     "text": [
      "c:\\Python310\\lib\\site-packages\\seaborn\\distributions.py:2619: FutureWarning: `distplot` is a deprecated function and will be removed in a future version. Please adapt your code to use either `displot` (a figure-level function with similar flexibility) or `histplot` (an axes-level function for histograms).\n",
      "  warnings.warn(msg, FutureWarning)\n"
     ]
    },
    {
     "data": {
      "text/plain": [
       "Text(0.5, 1.0, 'Residuals PDF')"
      ]
     },
     "execution_count": 42,
     "metadata": {},
     "output_type": "execute_result"
    },
    {
     "data": {
      "image/png": "[encoded data removed]",
      "text/plain": [
       "<Figure size 432x288 with 1 Axes>"
      ]
     },
     "metadata": {
      "needs_background": "light"
     },
     "output_type": "display_data"
    }
   ],
   "source": [
    "sb.distplot(y_train - y_hat)\n",
    "plt.title(\"Residuals PDF\",size=18)"
   ]
  },
  {
   "cell_type": "code",
   "execution_count": 43,
   "metadata": {},
   "outputs": [
    {
     "data": {
      "text/plain": [
       "0.7520453281718504"
      ]
     },
     "execution_count": 43,
     "metadata": {},
     "output_type": "execute_result"
    }
   ],
   "source": [
    "reg.score(x_train,y_train)"
   ]
  },
  {
   "cell_type": "markdown",
   "metadata": {},
   "source": [
    "Finding the weights and bias"
   ]
  },
  {
   "cell_type": "code",
   "execution_count": 44,
   "metadata": {},
   "outputs": [
    {
     "data": {
      "text/plain": [
       "array([-0.47713375,  0.25279341,  0.02659834,  0.03600588, -0.12726982,\n",
       "       -0.16670307, -0.04848545, -0.07180363, -0.14024984, -0.09622117,\n",
       "       -0.19162974, -0.10890609, -0.15699644, -0.12248327, -0.03067591,\n",
       "       -0.14136631,  0.31071348])"
      ]
     },
     "execution_count": 44,
     "metadata": {},
     "output_type": "execute_result"
    }
   ],
   "source": [
    "reg.coef_"
   ]
  },
  {
   "cell_type": "code",
   "execution_count": 46,
   "metadata": {},
   "outputs": [
    {
     "data": {
      "text/plain": [
       "9.43753512973232"
      ]
     },
     "execution_count": 46,
     "metadata": {},
     "output_type": "execute_result"
    }
   ],
   "source": [
    "reg.intercept_"
   ]
  },
  {
   "cell_type": "code",
   "execution_count": 47,
   "metadata": {},
   "outputs": [
    {
     "data": {
      "text/html": [
       "<div>\n",
       "<style scoped>\n",
       "    .dataframe tbody tr th:only-of-type {\n",
       "        vertical-align: middle;\n",
       "    }\n",
       "\n",
       "    .dataframe tbody tr th {\n",
       "        vertical-align: top;\n",
       "    }\n",
       "\n",
       "    .dataframe thead th {\n",
       "        text-align: right;\n",
       "    }\n",
       "</style>\n",
       "<table border=\"1\" class=\"dataframe\">\n",
       "  <thead>\n",
       "    <tr style=\"text-align: right;\">\n",
       "      <th></th>\n",
       "      <th>Features</th>\n",
       "      <th>Weight</th>\n",
       "    </tr>\n",
       "  </thead>\n",
       "  <tbody>\n",
       "    <tr>\n",
       "      <th>0</th>\n",
       "      <td>Mileage</td>\n",
       "      <td>-0.477134</td>\n",
       "    </tr>\n",
       "    <tr>\n",
       "      <th>1</th>\n",
       "      <td>EngineV</td>\n",
       "      <td>0.252793</td>\n",
       "    </tr>\n",
       "    <tr>\n",
       "      <th>2</th>\n",
       "      <td>Brand_BMW</td>\n",
       "      <td>0.026598</td>\n",
       "    </tr>\n",
       "    <tr>\n",
       "      <th>3</th>\n",
       "      <td>Brand_Mercedes-Benz</td>\n",
       "      <td>0.036006</td>\n",
       "    </tr>\n",
       "    <tr>\n",
       "      <th>4</th>\n",
       "      <td>Brand_Mitsubishi</td>\n",
       "      <td>-0.127270</td>\n",
       "    </tr>\n",
       "    <tr>\n",
       "      <th>5</th>\n",
       "      <td>Brand_Renault</td>\n",
       "      <td>-0.166703</td>\n",
       "    </tr>\n",
       "    <tr>\n",
       "      <th>6</th>\n",
       "      <td>Brand_Toyota</td>\n",
       "      <td>-0.048485</td>\n",
       "    </tr>\n",
       "    <tr>\n",
       "      <th>7</th>\n",
       "      <td>Brand_Volkswagen</td>\n",
       "      <td>-0.071804</td>\n",
       "    </tr>\n",
       "    <tr>\n",
       "      <th>8</th>\n",
       "      <td>Body_hatch</td>\n",
       "      <td>-0.140250</td>\n",
       "    </tr>\n",
       "    <tr>\n",
       "      <th>9</th>\n",
       "      <td>Body_other</td>\n",
       "      <td>-0.096221</td>\n",
       "    </tr>\n",
       "    <tr>\n",
       "      <th>10</th>\n",
       "      <td>Body_sedan</td>\n",
       "      <td>-0.191630</td>\n",
       "    </tr>\n",
       "    <tr>\n",
       "      <th>11</th>\n",
       "      <td>Body_vagon</td>\n",
       "      <td>-0.108906</td>\n",
       "    </tr>\n",
       "    <tr>\n",
       "      <th>12</th>\n",
       "      <td>Body_van</td>\n",
       "      <td>-0.156996</td>\n",
       "    </tr>\n",
       "    <tr>\n",
       "      <th>13</th>\n",
       "      <td>Engine Type_Gas</td>\n",
       "      <td>-0.122483</td>\n",
       "    </tr>\n",
       "    <tr>\n",
       "      <th>14</th>\n",
       "      <td>Engine Type_Other</td>\n",
       "      <td>-0.030676</td>\n",
       "    </tr>\n",
       "    <tr>\n",
       "      <th>15</th>\n",
       "      <td>Engine Type_Petrol</td>\n",
       "      <td>-0.141366</td>\n",
       "    </tr>\n",
       "    <tr>\n",
       "      <th>16</th>\n",
       "      <td>Registration_yes</td>\n",
       "      <td>0.310713</td>\n",
       "    </tr>\n",
       "  </tbody>\n",
       "</table>\n",
       "</div>"
      ],
      "text/plain": [
       "               Features    Weight\n",
       "0               Mileage -0.477134\n",
       "1               EngineV  0.252793\n",
       "2             Brand_BMW  0.026598\n",
       "3   Brand_Mercedes-Benz  0.036006\n",
       "4      Brand_Mitsubishi -0.127270\n",
       "5         Brand_Renault -0.166703\n",
       "6          Brand_Toyota -0.048485\n",
       "7      Brand_Volkswagen -0.071804\n",
       "8            Body_hatch -0.140250\n",
       "9            Body_other -0.096221\n",
       "10           Body_sedan -0.191630\n",
       "11           Body_vagon -0.108906\n",
       "12             Body_van -0.156996\n",
       "13      Engine Type_Gas -0.122483\n",
       "14    Engine Type_Other -0.030676\n",
       "15   Engine Type_Petrol -0.141366\n",
       "16     Registration_yes  0.310713"
      ]
     },
     "execution_count": 47,
     "metadata": {},
     "output_type": "execute_result"
    }
   ],
   "source": [
    "reg_summary = pm.DataFrame(inputs.columns.values,columns=['Features'])\n",
    "reg_summary['Weight'] = reg.coef_\n",
    "reg_summary"
   ]
  },
  {
   "cell_type": "markdown",
   "metadata": {},
   "source": [
    "Testing"
   ]
  },
  {
   "cell_type": "code",
   "execution_count": 48,
   "metadata": {},
   "outputs": [],
   "source": [
    "y_hat_test = reg.predict(x_test)"
   ]
  },
  {
   "cell_type": "code",
   "execution_count": 50,
   "metadata": {},
   "outputs": [
    {
     "data": {
      "image/png": "[encoded data removed]",
      "text/plain": [
       "<Figure size 432x288 with 1 Axes>"
      ]
     },
     "metadata": {
      "needs_background": "light"
     },
     "output_type": "display_data"
    }
   ],
   "source": [
    "plt.scatter(y_test, y_hat_test, alpha=0.2)\n",
    "plt.xlabel('Targets (y_test)',size=18)\n",
    "plt.ylabel('Predictions (y_hat_test)',size=18)\n",
    "plt.xlim(6,13)\n",
    "plt.ylim(6,13)\n",
    "plt.show()"
   ]
  },
  {
   "cell_type": "code",
   "execution_count": 52,
   "metadata": {},
   "outputs": [
    {
     "data": {
      "text/html": [
       "<div>\n",
       "<style scoped>\n",
       "    .dataframe tbody tr th:only-of-type {\n",
       "        vertical-align: middle;\n",
       "    }\n",
       "\n",
       "    .dataframe tbody tr th {\n",
       "        vertical-align: top;\n",
       "    }\n",
       "\n",
       "    .dataframe thead th {\n",
       "        text-align: right;\n",
       "    }\n",
       "</style>\n",
       "<table border=\"1\" class=\"dataframe\">\n",
       "  <thead>\n",
       "    <tr style=\"text-align: right;\">\n",
       "      <th></th>\n",
       "      <th>Prediction</th>\n",
       "    </tr>\n",
       "  </thead>\n",
       "  <tbody>\n",
       "    <tr>\n",
       "      <th>0</th>\n",
       "      <td>2497.123713</td>\n",
       "    </tr>\n",
       "    <tr>\n",
       "      <th>1</th>\n",
       "      <td>7456.534893</td>\n",
       "    </tr>\n",
       "    <tr>\n",
       "      <th>2</th>\n",
       "      <td>13496.814274</td>\n",
       "    </tr>\n",
       "    <tr>\n",
       "      <th>3</th>\n",
       "      <td>7573.105796</td>\n",
       "    </tr>\n",
       "    <tr>\n",
       "      <th>4</th>\n",
       "      <td>16502.817902</td>\n",
       "    </tr>\n",
       "  </tbody>\n",
       "</table>\n",
       "</div>"
      ],
      "text/plain": [
       "     Prediction\n",
       "0   2497.123713\n",
       "1   7456.534893\n",
       "2  13496.814274\n",
       "3   7573.105796\n",
       "4  16502.817902"
      ]
     },
     "execution_count": 52,
     "metadata": {},
     "output_type": "execute_result"
    }
   ],
   "source": [
    "df_pf = pm.DataFrame(np.exp(y_hat_test), columns=['Prediction'])\n",
    "df_pf.head()"
   ]
  },
  {
   "cell_type": "code",
   "execution_count": 62,
   "metadata": {},
   "outputs": [
    {
     "data": {
      "text/plain": [
       "0    7.495542\n",
       "1    9.287301\n",
       "2    9.609116\n",
       "3    9.305651\n",
       "4    9.740910\n",
       "Name: log_price, dtype: float64"
      ]
     },
     "execution_count": 62,
     "metadata": {},
     "output_type": "execute_result"
    }
   ],
   "source": [
    "y_test = y_test.reset_index(drop=True)\n",
    "y_test.head()"
   ]
  },
  {
   "cell_type": "code",
   "execution_count": 63,
   "metadata": {},
   "outputs": [
    {
     "data": {
      "text/html": [
       "<div>\n",
       "<style scoped>\n",
       "    .dataframe tbody tr th:only-of-type {\n",
       "        vertical-align: middle;\n",
       "    }\n",
       "\n",
       "    .dataframe tbody tr th {\n",
       "        vertical-align: top;\n",
       "    }\n",
       "\n",
       "    .dataframe thead th {\n",
       "        text-align: right;\n",
       "    }\n",
       "</style>\n",
       "<table border=\"1\" class=\"dataframe\">\n",
       "  <thead>\n",
       "    <tr style=\"text-align: right;\">\n",
       "      <th></th>\n",
       "      <th>Prediction</th>\n",
       "      <th>Target</th>\n",
       "      <th>Residual</th>\n",
       "      <th>Difference%</th>\n",
       "    </tr>\n",
       "  </thead>\n",
       "  <tbody>\n",
       "    <tr>\n",
       "      <th>0</th>\n",
       "      <td>2497.123713</td>\n",
       "      <td>1800.0</td>\n",
       "      <td>-697.123713</td>\n",
       "      <td>-38.729095</td>\n",
       "    </tr>\n",
       "    <tr>\n",
       "      <th>1</th>\n",
       "      <td>7456.534893</td>\n",
       "      <td>10800.0</td>\n",
       "      <td>3343.465107</td>\n",
       "      <td>30.958010</td>\n",
       "    </tr>\n",
       "    <tr>\n",
       "      <th>2</th>\n",
       "      <td>13496.814274</td>\n",
       "      <td>14900.0</td>\n",
       "      <td>1403.185726</td>\n",
       "      <td>9.417354</td>\n",
       "    </tr>\n",
       "    <tr>\n",
       "      <th>3</th>\n",
       "      <td>7573.105796</td>\n",
       "      <td>11000.0</td>\n",
       "      <td>3426.894204</td>\n",
       "      <td>31.153584</td>\n",
       "    </tr>\n",
       "    <tr>\n",
       "      <th>4</th>\n",
       "      <td>16502.817902</td>\n",
       "      <td>16999.0</td>\n",
       "      <td>496.182098</td>\n",
       "      <td>2.918890</td>\n",
       "    </tr>\n",
       "    <tr>\n",
       "      <th>...</th>\n",
       "      <td>...</td>\n",
       "      <td>...</td>\n",
       "      <td>...</td>\n",
       "      <td>...</td>\n",
       "    </tr>\n",
       "    <tr>\n",
       "      <th>777</th>\n",
       "      <td>1866.980599</td>\n",
       "      <td>1950.0</td>\n",
       "      <td>83.019401</td>\n",
       "      <td>4.257405</td>\n",
       "    </tr>\n",
       "    <tr>\n",
       "      <th>778</th>\n",
       "      <td>22010.975542</td>\n",
       "      <td>21335.0</td>\n",
       "      <td>-675.975542</td>\n",
       "      <td>-3.168388</td>\n",
       "    </tr>\n",
       "    <tr>\n",
       "      <th>779</th>\n",
       "      <td>7804.297565</td>\n",
       "      <td>13500.0</td>\n",
       "      <td>5695.702435</td>\n",
       "      <td>42.190388</td>\n",
       "    </tr>\n",
       "    <tr>\n",
       "      <th>780</th>\n",
       "      <td>6923.705483</td>\n",
       "      <td>6200.0</td>\n",
       "      <td>-723.705483</td>\n",
       "      <td>-11.672669</td>\n",
       "    </tr>\n",
       "    <tr>\n",
       "      <th>781</th>\n",
       "      <td>9581.790221</td>\n",
       "      <td>13300.0</td>\n",
       "      <td>3718.209779</td>\n",
       "      <td>27.956465</td>\n",
       "    </tr>\n",
       "  </tbody>\n",
       "</table>\n",
       "<p>782 rows × 4 columns</p>\n",
       "</div>"
      ],
      "text/plain": [
       "       Prediction   Target     Residual  Difference%\n",
       "0     2497.123713   1800.0  -697.123713   -38.729095\n",
       "1     7456.534893  10800.0  3343.465107    30.958010\n",
       "2    13496.814274  14900.0  1403.185726     9.417354\n",
       "3     7573.105796  11000.0  3426.894204    31.153584\n",
       "4    16502.817902  16999.0   496.182098     2.918890\n",
       "..            ...      ...          ...          ...\n",
       "777   1866.980599   1950.0    83.019401     4.257405\n",
       "778  22010.975542  21335.0  -675.975542    -3.168388\n",
       "779   7804.297565  13500.0  5695.702435    42.190388\n",
       "780   6923.705483   6200.0  -723.705483   -11.672669\n",
       "781   9581.790221  13300.0  3718.209779    27.956465\n",
       "\n",
       "[782 rows x 4 columns]"
      ]
     },
     "execution_count": 63,
     "metadata": {},
     "output_type": "execute_result"
    }
   ],
   "source": [
    " df_pf['Target'] = np.exp(y_test)\n",
    " df_pf"
   ]
  },
  {
   "cell_type": "code",
   "execution_count": 64,
   "metadata": {},
   "outputs": [],
   "source": [
    "df_pf['Residual'] = df_pf['Target'] - df_pf['Prediction']"
   ]
  },
  {
   "cell_type": "code",
   "execution_count": 65,
   "metadata": {},
   "outputs": [
    {
     "data": {
      "text/html": [
       "<div>\n",
       "<style scoped>\n",
       "    .dataframe tbody tr th:only-of-type {\n",
       "        vertical-align: middle;\n",
       "    }\n",
       "\n",
       "    .dataframe tbody tr th {\n",
       "        vertical-align: top;\n",
       "    }\n",
       "\n",
       "    .dataframe thead th {\n",
       "        text-align: right;\n",
       "    }\n",
       "</style>\n",
       "<table border=\"1\" class=\"dataframe\">\n",
       "  <thead>\n",
       "    <tr style=\"text-align: right;\">\n",
       "      <th></th>\n",
       "      <th>Prediction</th>\n",
       "      <th>Target</th>\n",
       "      <th>Residual</th>\n",
       "      <th>Difference%</th>\n",
       "    </tr>\n",
       "  </thead>\n",
       "  <tbody>\n",
       "    <tr>\n",
       "      <th>0</th>\n",
       "      <td>2497.123713</td>\n",
       "      <td>1800.0</td>\n",
       "      <td>-697.123713</td>\n",
       "      <td>-38.729095</td>\n",
       "    </tr>\n",
       "    <tr>\n",
       "      <th>1</th>\n",
       "      <td>7456.534893</td>\n",
       "      <td>10800.0</td>\n",
       "      <td>3343.465107</td>\n",
       "      <td>30.958010</td>\n",
       "    </tr>\n",
       "    <tr>\n",
       "      <th>2</th>\n",
       "      <td>13496.814274</td>\n",
       "      <td>14900.0</td>\n",
       "      <td>1403.185726</td>\n",
       "      <td>9.417354</td>\n",
       "    </tr>\n",
       "    <tr>\n",
       "      <th>3</th>\n",
       "      <td>7573.105796</td>\n",
       "      <td>11000.0</td>\n",
       "      <td>3426.894204</td>\n",
       "      <td>31.153584</td>\n",
       "    </tr>\n",
       "    <tr>\n",
       "      <th>4</th>\n",
       "      <td>16502.817902</td>\n",
       "      <td>16999.0</td>\n",
       "      <td>496.182098</td>\n",
       "      <td>2.918890</td>\n",
       "    </tr>\n",
       "    <tr>\n",
       "      <th>...</th>\n",
       "      <td>...</td>\n",
       "      <td>...</td>\n",
       "      <td>...</td>\n",
       "      <td>...</td>\n",
       "    </tr>\n",
       "    <tr>\n",
       "      <th>777</th>\n",
       "      <td>1866.980599</td>\n",
       "      <td>1950.0</td>\n",
       "      <td>83.019401</td>\n",
       "      <td>4.257405</td>\n",
       "    </tr>\n",
       "    <tr>\n",
       "      <th>778</th>\n",
       "      <td>22010.975542</td>\n",
       "      <td>21335.0</td>\n",
       "      <td>-675.975542</td>\n",
       "      <td>-3.168388</td>\n",
       "    </tr>\n",
       "    <tr>\n",
       "      <th>779</th>\n",
       "      <td>7804.297565</td>\n",
       "      <td>13500.0</td>\n",
       "      <td>5695.702435</td>\n",
       "      <td>42.190388</td>\n",
       "    </tr>\n",
       "    <tr>\n",
       "      <th>780</th>\n",
       "      <td>6923.705483</td>\n",
       "      <td>6200.0</td>\n",
       "      <td>-723.705483</td>\n",
       "      <td>-11.672669</td>\n",
       "    </tr>\n",
       "    <tr>\n",
       "      <th>781</th>\n",
       "      <td>9581.790221</td>\n",
       "      <td>13300.0</td>\n",
       "      <td>3718.209779</td>\n",
       "      <td>27.956465</td>\n",
       "    </tr>\n",
       "  </tbody>\n",
       "</table>\n",
       "<p>782 rows × 4 columns</p>\n",
       "</div>"
      ],
      "text/plain": [
       "       Prediction   Target     Residual  Difference%\n",
       "0     2497.123713   1800.0  -697.123713   -38.729095\n",
       "1     7456.534893  10800.0  3343.465107    30.958010\n",
       "2    13496.814274  14900.0  1403.185726     9.417354\n",
       "3     7573.105796  11000.0  3426.894204    31.153584\n",
       "4    16502.817902  16999.0   496.182098     2.918890\n",
       "..            ...      ...          ...          ...\n",
       "777   1866.980599   1950.0    83.019401     4.257405\n",
       "778  22010.975542  21335.0  -675.975542    -3.168388\n",
       "779   7804.297565  13500.0  5695.702435    42.190388\n",
       "780   6923.705483   6200.0  -723.705483   -11.672669\n",
       "781   9581.790221  13300.0  3718.209779    27.956465\n",
       "\n",
       "[782 rows x 4 columns]"
      ]
     },
     "execution_count": 65,
     "metadata": {},
     "output_type": "execute_result"
    }
   ],
   "source": [
    "df_pf['Difference%'] = df_pf['Residual']/df_pf['Target']*100\n",
    "df_pf"
   ]
  },
  {
   "cell_type": "code",
   "execution_count": 66,
   "metadata": {},
   "outputs": [
    {
     "data": {
      "text/html": [
       "<div>\n",
       "<style scoped>\n",
       "    .dataframe tbody tr th:only-of-type {\n",
       "        vertical-align: middle;\n",
       "    }\n",
       "\n",
       "    .dataframe tbody tr th {\n",
       "        vertical-align: top;\n",
       "    }\n",
       "\n",
       "    .dataframe thead th {\n",
       "        text-align: right;\n",
       "    }\n",
       "</style>\n",
       "<table border=\"1\" class=\"dataframe\">\n",
       "  <thead>\n",
       "    <tr style=\"text-align: right;\">\n",
       "      <th></th>\n",
       "      <th>Prediction</th>\n",
       "      <th>Target</th>\n",
       "      <th>Residual</th>\n",
       "      <th>Difference%</th>\n",
       "    </tr>\n",
       "  </thead>\n",
       "  <tbody>\n",
       "    <tr>\n",
       "      <th>count</th>\n",
       "      <td>782.000000</td>\n",
       "      <td>782.000000</td>\n",
       "      <td>782.000000</td>\n",
       "      <td>782.000000</td>\n",
       "    </tr>\n",
       "    <tr>\n",
       "      <th>mean</th>\n",
       "      <td>17668.626792</td>\n",
       "      <td>20717.216803</td>\n",
       "      <td>3048.590012</td>\n",
       "      <td>-7.994881</td>\n",
       "    </tr>\n",
       "    <tr>\n",
       "      <th>std</th>\n",
       "      <td>15260.172350</td>\n",
       "      <td>25654.851301</td>\n",
       "      <td>15487.661137</td>\n",
       "      <td>86.075649</td>\n",
       "    </tr>\n",
       "    <tr>\n",
       "      <th>min</th>\n",
       "      <td>1195.372625</td>\n",
       "      <td>800.000000</td>\n",
       "      <td>-44009.355675</td>\n",
       "      <td>-1833.723153</td>\n",
       "    </tr>\n",
       "    <tr>\n",
       "      <th>25%</th>\n",
       "      <td>7642.370756</td>\n",
       "      <td>7500.000000</td>\n",
       "      <td>-2106.719386</td>\n",
       "      <td>-22.096516</td>\n",
       "    </tr>\n",
       "    <tr>\n",
       "      <th>50%</th>\n",
       "      <td>12647.391012</td>\n",
       "      <td>12500.000000</td>\n",
       "      <td>453.938710</td>\n",
       "      <td>4.323308</td>\n",
       "    </tr>\n",
       "    <tr>\n",
       "      <th>75%</th>\n",
       "      <td>22630.721407</td>\n",
       "      <td>23324.750000</td>\n",
       "      <td>3734.118831</td>\n",
       "      <td>25.402038</td>\n",
       "    </tr>\n",
       "    <tr>\n",
       "      <th>max</th>\n",
       "      <td>99473.692128</td>\n",
       "      <td>249999.000000</td>\n",
       "      <td>179168.433265</td>\n",
       "      <td>82.468491</td>\n",
       "    </tr>\n",
       "  </tbody>\n",
       "</table>\n",
       "</div>"
      ],
      "text/plain": [
       "         Prediction         Target       Residual  Difference%\n",
       "count    782.000000     782.000000     782.000000   782.000000\n",
       "mean   17668.626792   20717.216803    3048.590012    -7.994881\n",
       "std    15260.172350   25654.851301   15487.661137    86.075649\n",
       "min     1195.372625     800.000000  -44009.355675 -1833.723153\n",
       "25%     7642.370756    7500.000000   -2106.719386   -22.096516\n",
       "50%    12647.391012   12500.000000     453.938710     4.323308\n",
       "75%    22630.721407   23324.750000    3734.118831    25.402038\n",
       "max    99473.692128  249999.000000  179168.433265    82.468491"
      ]
     },
     "execution_count": 66,
     "metadata": {},
     "output_type": "execute_result"
    }
   ],
   "source": [
    "df_pf.describe()"
   ]
  },
  {
   "cell_type": "code",
   "execution_count": null,
   "metadata": {},
   "outputs": [],
   "source": []
  }
 ],
 "metadata": {
  "kernelspec": {
   "display_name": "Python 3.10.6 64-bit",
   "language": "python",
   "name": "python3"
  },
  "language_info": {
   "codemirror_mode": {
    "name": "ipython",
    "version": 3
   },
   "file_extension": ".py",
   "mimetype": "text/x-python",
   "name": "python",
   "nbconvert_exporter": "python",
   "pygments_lexer": "ipython3",
   "version": "3.10.6"
  },
  "orig_nbformat": 4,
  "vscode": {
   "interpreter": {
    "hash": "369f2c481f4da34e4445cda3fffd2e751bd1c4d706f27375911949ba6bb62e1c"
   }
  }
 },
 "nbformat": 4,
 "nbformat_minor": 2
}

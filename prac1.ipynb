import numpy as np
import pandas as pm 
import statsmodels.api as sm
import matplotlib.pyplot as plt

data = pm.read_csv('D:\Python\Data_Science\Simple_linear_regression.csv')
print(data)
